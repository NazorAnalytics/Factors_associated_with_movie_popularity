{
 "cells": [
  {
   "cell_type": "markdown",
   "id": "8aa5f461",
   "metadata": {},
   "source": [
    "# Project: Investigation of the TMDB-MOVIE Dataset \n",
    "### By Idenyi Chinazor J.<br>\n",
    "\n",
    "\n",
    "\n",
    "## Table of Contents\n",
    "<ul>\n",
    "<li><a href=\"#intro\">Introduction</a></li>\n",
    "<li><a href=\"#wrangling\">Data Wrangling</a></li>\n",
    "<li><a href=\"#eda\">Exploratory Data Analysis</a></li>\n",
    "<li><a href=\"#conclusions\">Conclusions</a></li>\n",
    "</ul>"
   ]
  },
  {
   "cell_type": "markdown",
   "id": "dd69ab54",
   "metadata": {},
   "source": [
    "##  Introduction\n",
    "This investigation was carried out on the TMDB-Movie dataset which contains information concerning over 10,000 movies released between 1960 and 2015. The dataset contains information about how popular these movies were, the budgets made for each movie, the revenue earned from each, the movie titles, casts, runtime, genreS, release year, etc.\n",
    "\n",
    "### Research Objective\n",
    "The research objective is to determine the factors asssociated with movie popularity.\n",
    "\n",
    "\n",
    "### The following research questions were investigated\n",
    "<ol>\n",
    "<li>Are particular genres of movies more popular than others?</li>\n",
    "<li>Is there a relationship between the popularity of a movie and the amount budgeted for it??</li>\n",
    "<li>Does the runtime of movies have a relationship with their popularity?</li>\n",
    "</ol>\n"
   ]
  },
  {
   "cell_type": "markdown",
   "id": "35b5e075",
   "metadata": {},
   "source": [
    "## Data Wrangling"
   ]
  },
  {
   "cell_type": "markdown",
   "id": "596c2b91",
   "metadata": {},
   "source": [
    "### General Properties\n",
    "\n",
    "Here, I loaded and inspected the dataset"
   ]
  },
  {
   "cell_type": "code",
   "execution_count": 288,
   "id": "7cdf68b8",
   "metadata": {},
   "outputs": [],
   "source": [
    "#Importing libraries\n",
    "import pandas as pd\n",
    "import numpy as np\n",
    "import matplotlib.pyplot as plt\n",
    "%matplotlib inline\n",
    "plt.style.use('ggplot')"
   ]
  },
  {
   "cell_type": "code",
   "execution_count": 289,
   "id": "355bbfd8",
   "metadata": {},
   "outputs": [],
   "source": [
    "#Loading the dataset and assigning it to the variable name movies\n",
    "movies=pd.read_csv('C:/Users/e7450/Downloads/tmdb-movies.csv')"
   ]
  },
  {
   "cell_type": "code",
   "execution_count": 290,
   "id": "d92dfe56",
   "metadata": {},
   "outputs": [
    {
     "data": {
      "text/html": [
       "<div>\n",
       "<style scoped>\n",
       "    .dataframe tbody tr th:only-of-type {\n",
       "        vertical-align: middle;\n",
       "    }\n",
       "\n",
       "    .dataframe tbody tr th {\n",
       "        vertical-align: top;\n",
       "    }\n",
       "\n",
       "    .dataframe thead th {\n",
       "        text-align: right;\n",
       "    }\n",
       "</style>\n",
       "<table border=\"1\" class=\"dataframe\">\n",
       "  <thead>\n",
       "    <tr style=\"text-align: right;\">\n",
       "      <th></th>\n",
       "      <th>id</th>\n",
       "      <th>imdb_id</th>\n",
       "      <th>popularity</th>\n",
       "      <th>budget</th>\n",
       "      <th>revenue</th>\n",
       "      <th>original_title</th>\n",
       "      <th>cast</th>\n",
       "      <th>homepage</th>\n",
       "      <th>director</th>\n",
       "      <th>tagline</th>\n",
       "      <th>...</th>\n",
       "      <th>overview</th>\n",
       "      <th>runtime</th>\n",
       "      <th>genres</th>\n",
       "      <th>production_companies</th>\n",
       "      <th>release_date</th>\n",
       "      <th>vote_count</th>\n",
       "      <th>vote_average</th>\n",
       "      <th>release_year</th>\n",
       "      <th>budget_adj</th>\n",
       "      <th>revenue_adj</th>\n",
       "    </tr>\n",
       "  </thead>\n",
       "  <tbody>\n",
       "    <tr>\n",
       "      <th>0</th>\n",
       "      <td>135397</td>\n",
       "      <td>tt0369610</td>\n",
       "      <td>32.985763</td>\n",
       "      <td>150000000</td>\n",
       "      <td>1513528810</td>\n",
       "      <td>Jurassic World</td>\n",
       "      <td>Chris Pratt|Bryce Dallas Howard|Irrfan Khan|Vi...</td>\n",
       "      <td>http://www.jurassicworld.com/</td>\n",
       "      <td>Colin Trevorrow</td>\n",
       "      <td>The park is open.</td>\n",
       "      <td>...</td>\n",
       "      <td>Twenty-two years after the events of Jurassic ...</td>\n",
       "      <td>124</td>\n",
       "      <td>Action|Adventure|Science Fiction|Thriller</td>\n",
       "      <td>Universal Studios|Amblin Entertainment|Legenda...</td>\n",
       "      <td>6/9/15</td>\n",
       "      <td>5562</td>\n",
       "      <td>6.5</td>\n",
       "      <td>2015</td>\n",
       "      <td>1.379999e+08</td>\n",
       "      <td>1.392446e+09</td>\n",
       "    </tr>\n",
       "    <tr>\n",
       "      <th>1</th>\n",
       "      <td>76341</td>\n",
       "      <td>tt1392190</td>\n",
       "      <td>28.419936</td>\n",
       "      <td>150000000</td>\n",
       "      <td>378436354</td>\n",
       "      <td>Mad Max: Fury Road</td>\n",
       "      <td>Tom Hardy|Charlize Theron|Hugh Keays-Byrne|Nic...</td>\n",
       "      <td>http://www.madmaxmovie.com/</td>\n",
       "      <td>George Miller</td>\n",
       "      <td>What a Lovely Day.</td>\n",
       "      <td>...</td>\n",
       "      <td>An apocalyptic story set in the furthest reach...</td>\n",
       "      <td>120</td>\n",
       "      <td>Action|Adventure|Science Fiction|Thriller</td>\n",
       "      <td>Village Roadshow Pictures|Kennedy Miller Produ...</td>\n",
       "      <td>5/13/15</td>\n",
       "      <td>6185</td>\n",
       "      <td>7.1</td>\n",
       "      <td>2015</td>\n",
       "      <td>1.379999e+08</td>\n",
       "      <td>3.481613e+08</td>\n",
       "    </tr>\n",
       "    <tr>\n",
       "      <th>2</th>\n",
       "      <td>262500</td>\n",
       "      <td>tt2908446</td>\n",
       "      <td>13.112507</td>\n",
       "      <td>110000000</td>\n",
       "      <td>295238201</td>\n",
       "      <td>Insurgent</td>\n",
       "      <td>Shailene Woodley|Theo James|Kate Winslet|Ansel...</td>\n",
       "      <td>http://www.thedivergentseries.movie/#insurgent</td>\n",
       "      <td>Robert Schwentke</td>\n",
       "      <td>One Choice Can Destroy You</td>\n",
       "      <td>...</td>\n",
       "      <td>Beatrice Prior must confront her inner demons ...</td>\n",
       "      <td>119</td>\n",
       "      <td>Adventure|Science Fiction|Thriller</td>\n",
       "      <td>Summit Entertainment|Mandeville Films|Red Wago...</td>\n",
       "      <td>3/18/15</td>\n",
       "      <td>2480</td>\n",
       "      <td>6.3</td>\n",
       "      <td>2015</td>\n",
       "      <td>1.012000e+08</td>\n",
       "      <td>2.716190e+08</td>\n",
       "    </tr>\n",
       "    <tr>\n",
       "      <th>3</th>\n",
       "      <td>140607</td>\n",
       "      <td>tt2488496</td>\n",
       "      <td>11.173104</td>\n",
       "      <td>200000000</td>\n",
       "      <td>2068178225</td>\n",
       "      <td>Star Wars: The Force Awakens</td>\n",
       "      <td>Harrison Ford|Mark Hamill|Carrie Fisher|Adam D...</td>\n",
       "      <td>http://www.starwars.com/films/star-wars-episod...</td>\n",
       "      <td>J.J. Abrams</td>\n",
       "      <td>Every generation has a story.</td>\n",
       "      <td>...</td>\n",
       "      <td>Thirty years after defeating the Galactic Empi...</td>\n",
       "      <td>136</td>\n",
       "      <td>Action|Adventure|Science Fiction|Fantasy</td>\n",
       "      <td>Lucasfilm|Truenorth Productions|Bad Robot</td>\n",
       "      <td>12/15/15</td>\n",
       "      <td>5292</td>\n",
       "      <td>7.5</td>\n",
       "      <td>2015</td>\n",
       "      <td>1.839999e+08</td>\n",
       "      <td>1.902723e+09</td>\n",
       "    </tr>\n",
       "    <tr>\n",
       "      <th>4</th>\n",
       "      <td>168259</td>\n",
       "      <td>tt2820852</td>\n",
       "      <td>9.335014</td>\n",
       "      <td>190000000</td>\n",
       "      <td>1506249360</td>\n",
       "      <td>Furious 7</td>\n",
       "      <td>Vin Diesel|Paul Walker|Jason Statham|Michelle ...</td>\n",
       "      <td>http://www.furious7.com/</td>\n",
       "      <td>James Wan</td>\n",
       "      <td>Vengeance Hits Home</td>\n",
       "      <td>...</td>\n",
       "      <td>Deckard Shaw seeks revenge against Dominic Tor...</td>\n",
       "      <td>137</td>\n",
       "      <td>Action|Crime|Thriller</td>\n",
       "      <td>Universal Pictures|Original Film|Media Rights ...</td>\n",
       "      <td>4/1/15</td>\n",
       "      <td>2947</td>\n",
       "      <td>7.3</td>\n",
       "      <td>2015</td>\n",
       "      <td>1.747999e+08</td>\n",
       "      <td>1.385749e+09</td>\n",
       "    </tr>\n",
       "  </tbody>\n",
       "</table>\n",
       "<p>5 rows × 21 columns</p>\n",
       "</div>"
      ],
      "text/plain": [
       "       id    imdb_id  popularity     budget     revenue  \\\n",
       "0  135397  tt0369610   32.985763  150000000  1513528810   \n",
       "1   76341  tt1392190   28.419936  150000000   378436354   \n",
       "2  262500  tt2908446   13.112507  110000000   295238201   \n",
       "3  140607  tt2488496   11.173104  200000000  2068178225   \n",
       "4  168259  tt2820852    9.335014  190000000  1506249360   \n",
       "\n",
       "                 original_title  \\\n",
       "0                Jurassic World   \n",
       "1            Mad Max: Fury Road   \n",
       "2                     Insurgent   \n",
       "3  Star Wars: The Force Awakens   \n",
       "4                     Furious 7   \n",
       "\n",
       "                                                cast  \\\n",
       "0  Chris Pratt|Bryce Dallas Howard|Irrfan Khan|Vi...   \n",
       "1  Tom Hardy|Charlize Theron|Hugh Keays-Byrne|Nic...   \n",
       "2  Shailene Woodley|Theo James|Kate Winslet|Ansel...   \n",
       "3  Harrison Ford|Mark Hamill|Carrie Fisher|Adam D...   \n",
       "4  Vin Diesel|Paul Walker|Jason Statham|Michelle ...   \n",
       "\n",
       "                                            homepage          director  \\\n",
       "0                      http://www.jurassicworld.com/   Colin Trevorrow   \n",
       "1                        http://www.madmaxmovie.com/     George Miller   \n",
       "2     http://www.thedivergentseries.movie/#insurgent  Robert Schwentke   \n",
       "3  http://www.starwars.com/films/star-wars-episod...       J.J. Abrams   \n",
       "4                           http://www.furious7.com/         James Wan   \n",
       "\n",
       "                         tagline  ...  \\\n",
       "0              The park is open.  ...   \n",
       "1             What a Lovely Day.  ...   \n",
       "2     One Choice Can Destroy You  ...   \n",
       "3  Every generation has a story.  ...   \n",
       "4            Vengeance Hits Home  ...   \n",
       "\n",
       "                                            overview runtime  \\\n",
       "0  Twenty-two years after the events of Jurassic ...     124   \n",
       "1  An apocalyptic story set in the furthest reach...     120   \n",
       "2  Beatrice Prior must confront her inner demons ...     119   \n",
       "3  Thirty years after defeating the Galactic Empi...     136   \n",
       "4  Deckard Shaw seeks revenge against Dominic Tor...     137   \n",
       "\n",
       "                                      genres  \\\n",
       "0  Action|Adventure|Science Fiction|Thriller   \n",
       "1  Action|Adventure|Science Fiction|Thriller   \n",
       "2         Adventure|Science Fiction|Thriller   \n",
       "3   Action|Adventure|Science Fiction|Fantasy   \n",
       "4                      Action|Crime|Thriller   \n",
       "\n",
       "                                production_companies release_date vote_count  \\\n",
       "0  Universal Studios|Amblin Entertainment|Legenda...       6/9/15       5562   \n",
       "1  Village Roadshow Pictures|Kennedy Miller Produ...      5/13/15       6185   \n",
       "2  Summit Entertainment|Mandeville Films|Red Wago...      3/18/15       2480   \n",
       "3          Lucasfilm|Truenorth Productions|Bad Robot     12/15/15       5292   \n",
       "4  Universal Pictures|Original Film|Media Rights ...       4/1/15       2947   \n",
       "\n",
       "   vote_average  release_year    budget_adj   revenue_adj  \n",
       "0           6.5          2015  1.379999e+08  1.392446e+09  \n",
       "1           7.1          2015  1.379999e+08  3.481613e+08  \n",
       "2           6.3          2015  1.012000e+08  2.716190e+08  \n",
       "3           7.5          2015  1.839999e+08  1.902723e+09  \n",
       "4           7.3          2015  1.747999e+08  1.385749e+09  \n",
       "\n",
       "[5 rows x 21 columns]"
      ]
     },
     "execution_count": 290,
     "metadata": {},
     "output_type": "execute_result"
    }
   ],
   "source": [
    "#Viewing the first five rows of the datset\n",
    "movies.head()"
   ]
  },
  {
   "cell_type": "code",
   "execution_count": 291,
   "id": "46450e45",
   "metadata": {},
   "outputs": [
    {
     "data": {
      "text/plain": [
       "(10866, 21)"
      ]
     },
     "execution_count": 291,
     "metadata": {},
     "output_type": "execute_result"
    }
   ],
   "source": [
    "#Checking to see the number of rows and columns\n",
    "movies.shape"
   ]
  },
  {
   "cell_type": "code",
   "execution_count": 292,
   "id": "d848612b",
   "metadata": {},
   "outputs": [
    {
     "name": "stdout",
     "output_type": "stream",
     "text": [
      "<class 'pandas.core.frame.DataFrame'>\n",
      "RangeIndex: 10866 entries, 0 to 10865\n",
      "Data columns (total 21 columns):\n",
      " #   Column                Non-Null Count  Dtype  \n",
      "---  ------                --------------  -----  \n",
      " 0   id                    10866 non-null  int64  \n",
      " 1   imdb_id               10856 non-null  object \n",
      " 2   popularity            10866 non-null  float64\n",
      " 3   budget                10866 non-null  int64  \n",
      " 4   revenue               10866 non-null  int64  \n",
      " 5   original_title        10866 non-null  object \n",
      " 6   cast                  10790 non-null  object \n",
      " 7   homepage              2936 non-null   object \n",
      " 8   director              10822 non-null  object \n",
      " 9   tagline               8042 non-null   object \n",
      " 10  keywords              9373 non-null   object \n",
      " 11  overview              10862 non-null  object \n",
      " 12  runtime               10866 non-null  int64  \n",
      " 13  genres                10843 non-null  object \n",
      " 14  production_companies  9836 non-null   object \n",
      " 15  release_date          10866 non-null  object \n",
      " 16  vote_count            10866 non-null  int64  \n",
      " 17  vote_average          10866 non-null  float64\n",
      " 18  release_year          10866 non-null  int64  \n",
      " 19  budget_adj            10866 non-null  float64\n",
      " 20  revenue_adj           10866 non-null  float64\n",
      "dtypes: float64(4), int64(6), object(11)\n",
      "memory usage: 1.7+ MB\n"
     ]
    }
   ],
   "source": [
    "#Getting more information about the dataset\n",
    "movies.info()"
   ]
  },
  {
   "cell_type": "code",
   "execution_count": 293,
   "id": "92ee6e94",
   "metadata": {},
   "outputs": [
    {
     "data": {
      "text/plain": [
       "id                         0\n",
       "imdb_id                   10\n",
       "popularity                 0\n",
       "budget                     0\n",
       "revenue                    0\n",
       "original_title             0\n",
       "cast                      76\n",
       "homepage                7930\n",
       "director                  44\n",
       "tagline                 2824\n",
       "keywords                1493\n",
       "overview                   4\n",
       "runtime                    0\n",
       "genres                    23\n",
       "production_companies    1030\n",
       "release_date               0\n",
       "vote_count                 0\n",
       "vote_average               0\n",
       "release_year               0\n",
       "budget_adj                 0\n",
       "revenue_adj                0\n",
       "dtype: int64"
      ]
     },
     "execution_count": 293,
     "metadata": {},
     "output_type": "execute_result"
    }
   ],
   "source": [
    "#Viewing the columns with null values more clearly\n",
    "movies.isnull().sum()"
   ]
  },
  {
   "cell_type": "code",
   "execution_count": 294,
   "id": "17931a56",
   "metadata": {},
   "outputs": [
    {
     "data": {
      "text/plain": [
       "1"
      ]
     },
     "execution_count": 294,
     "metadata": {},
     "output_type": "execute_result"
    }
   ],
   "source": [
    "#Checking to see if there are duplicated rows\n",
    "movies.duplicated().sum()"
   ]
  },
  {
   "cell_type": "markdown",
   "id": "b2e42d6e",
   "metadata": {},
   "source": [
    "The preview of the dataset carried out above shows that the TMDB-movies dataset has a total of 10,866 rows and 21 columns.<br>\n",
    "There are 4 columns having the float datatype, 6 columns having the integer datatype and 11 columns having the object datatype.<br> There are several null values in some columns of the dataset. <br> Also, there is one duplicate row in the dataset. "
   ]
  },
  {
   "cell_type": "code",
   "execution_count": 295,
   "id": "1a681fe6",
   "metadata": {
    "scrolled": true
   },
   "outputs": [
    {
     "data": {
      "text/html": [
       "<div>\n",
       "<style scoped>\n",
       "    .dataframe tbody tr th:only-of-type {\n",
       "        vertical-align: middle;\n",
       "    }\n",
       "\n",
       "    .dataframe tbody tr th {\n",
       "        vertical-align: top;\n",
       "    }\n",
       "\n",
       "    .dataframe thead th {\n",
       "        text-align: right;\n",
       "    }\n",
       "</style>\n",
       "<table border=\"1\" class=\"dataframe\">\n",
       "  <thead>\n",
       "    <tr style=\"text-align: right;\">\n",
       "      <th></th>\n",
       "      <th>id</th>\n",
       "      <th>popularity</th>\n",
       "      <th>budget</th>\n",
       "      <th>revenue</th>\n",
       "      <th>runtime</th>\n",
       "      <th>vote_count</th>\n",
       "      <th>vote_average</th>\n",
       "      <th>release_year</th>\n",
       "      <th>budget_adj</th>\n",
       "      <th>revenue_adj</th>\n",
       "    </tr>\n",
       "  </thead>\n",
       "  <tbody>\n",
       "    <tr>\n",
       "      <th>count</th>\n",
       "      <td>10866.000000</td>\n",
       "      <td>10866.000000</td>\n",
       "      <td>1.086600e+04</td>\n",
       "      <td>1.086600e+04</td>\n",
       "      <td>10866.000000</td>\n",
       "      <td>10866.000000</td>\n",
       "      <td>10866.000000</td>\n",
       "      <td>10866.000000</td>\n",
       "      <td>1.086600e+04</td>\n",
       "      <td>1.086600e+04</td>\n",
       "    </tr>\n",
       "    <tr>\n",
       "      <th>mean</th>\n",
       "      <td>66064.177434</td>\n",
       "      <td>0.646441</td>\n",
       "      <td>1.462570e+07</td>\n",
       "      <td>3.982332e+07</td>\n",
       "      <td>102.070863</td>\n",
       "      <td>217.389748</td>\n",
       "      <td>5.974922</td>\n",
       "      <td>2001.322658</td>\n",
       "      <td>1.755104e+07</td>\n",
       "      <td>5.136436e+07</td>\n",
       "    </tr>\n",
       "    <tr>\n",
       "      <th>std</th>\n",
       "      <td>92130.136561</td>\n",
       "      <td>1.000185</td>\n",
       "      <td>3.091321e+07</td>\n",
       "      <td>1.170035e+08</td>\n",
       "      <td>31.381405</td>\n",
       "      <td>575.619058</td>\n",
       "      <td>0.935142</td>\n",
       "      <td>12.812941</td>\n",
       "      <td>3.430616e+07</td>\n",
       "      <td>1.446325e+08</td>\n",
       "    </tr>\n",
       "    <tr>\n",
       "      <th>min</th>\n",
       "      <td>5.000000</td>\n",
       "      <td>0.000065</td>\n",
       "      <td>0.000000e+00</td>\n",
       "      <td>0.000000e+00</td>\n",
       "      <td>0.000000</td>\n",
       "      <td>10.000000</td>\n",
       "      <td>1.500000</td>\n",
       "      <td>1960.000000</td>\n",
       "      <td>0.000000e+00</td>\n",
       "      <td>0.000000e+00</td>\n",
       "    </tr>\n",
       "    <tr>\n",
       "      <th>25%</th>\n",
       "      <td>10596.250000</td>\n",
       "      <td>0.207583</td>\n",
       "      <td>0.000000e+00</td>\n",
       "      <td>0.000000e+00</td>\n",
       "      <td>90.000000</td>\n",
       "      <td>17.000000</td>\n",
       "      <td>5.400000</td>\n",
       "      <td>1995.000000</td>\n",
       "      <td>0.000000e+00</td>\n",
       "      <td>0.000000e+00</td>\n",
       "    </tr>\n",
       "    <tr>\n",
       "      <th>50%</th>\n",
       "      <td>20669.000000</td>\n",
       "      <td>0.383856</td>\n",
       "      <td>0.000000e+00</td>\n",
       "      <td>0.000000e+00</td>\n",
       "      <td>99.000000</td>\n",
       "      <td>38.000000</td>\n",
       "      <td>6.000000</td>\n",
       "      <td>2006.000000</td>\n",
       "      <td>0.000000e+00</td>\n",
       "      <td>0.000000e+00</td>\n",
       "    </tr>\n",
       "    <tr>\n",
       "      <th>75%</th>\n",
       "      <td>75610.000000</td>\n",
       "      <td>0.713817</td>\n",
       "      <td>1.500000e+07</td>\n",
       "      <td>2.400000e+07</td>\n",
       "      <td>111.000000</td>\n",
       "      <td>145.750000</td>\n",
       "      <td>6.600000</td>\n",
       "      <td>2011.000000</td>\n",
       "      <td>2.085325e+07</td>\n",
       "      <td>3.369710e+07</td>\n",
       "    </tr>\n",
       "    <tr>\n",
       "      <th>max</th>\n",
       "      <td>417859.000000</td>\n",
       "      <td>32.985763</td>\n",
       "      <td>4.250000e+08</td>\n",
       "      <td>2.781506e+09</td>\n",
       "      <td>900.000000</td>\n",
       "      <td>9767.000000</td>\n",
       "      <td>9.200000</td>\n",
       "      <td>2015.000000</td>\n",
       "      <td>4.250000e+08</td>\n",
       "      <td>2.827124e+09</td>\n",
       "    </tr>\n",
       "  </tbody>\n",
       "</table>\n",
       "</div>"
      ],
      "text/plain": [
       "                  id    popularity        budget       revenue       runtime  \\\n",
       "count   10866.000000  10866.000000  1.086600e+04  1.086600e+04  10866.000000   \n",
       "mean    66064.177434      0.646441  1.462570e+07  3.982332e+07    102.070863   \n",
       "std     92130.136561      1.000185  3.091321e+07  1.170035e+08     31.381405   \n",
       "min         5.000000      0.000065  0.000000e+00  0.000000e+00      0.000000   \n",
       "25%     10596.250000      0.207583  0.000000e+00  0.000000e+00     90.000000   \n",
       "50%     20669.000000      0.383856  0.000000e+00  0.000000e+00     99.000000   \n",
       "75%     75610.000000      0.713817  1.500000e+07  2.400000e+07    111.000000   \n",
       "max    417859.000000     32.985763  4.250000e+08  2.781506e+09    900.000000   \n",
       "\n",
       "         vote_count  vote_average  release_year    budget_adj   revenue_adj  \n",
       "count  10866.000000  10866.000000  10866.000000  1.086600e+04  1.086600e+04  \n",
       "mean     217.389748      5.974922   2001.322658  1.755104e+07  5.136436e+07  \n",
       "std      575.619058      0.935142     12.812941  3.430616e+07  1.446325e+08  \n",
       "min       10.000000      1.500000   1960.000000  0.000000e+00  0.000000e+00  \n",
       "25%       17.000000      5.400000   1995.000000  0.000000e+00  0.000000e+00  \n",
       "50%       38.000000      6.000000   2006.000000  0.000000e+00  0.000000e+00  \n",
       "75%      145.750000      6.600000   2011.000000  2.085325e+07  3.369710e+07  \n",
       "max     9767.000000      9.200000   2015.000000  4.250000e+08  2.827124e+09  "
      ]
     },
     "execution_count": 295,
     "metadata": {},
     "output_type": "execute_result"
    }
   ],
   "source": [
    "#Getting the descriptive statistics for numerical data\n",
    "movies.describe()"
   ]
  },
  {
   "cell_type": "code",
   "execution_count": 296,
   "id": "602d0c0f",
   "metadata": {},
   "outputs": [
    {
     "data": {
      "image/png": "[encoded data removed]",
      "text/plain": [
       "<Figure size 864x864 with 12 Axes>"
      ]
     },
     "metadata": {},
     "output_type": "display_data"
    }
   ],
   "source": [
    "#Viewing the distribution of the numerical data\n",
    "movies.hist(figsize=(12,12));"
   ]
  },
  {
   "cell_type": "markdown",
   "id": "a02e818f",
   "metadata": {},
   "source": [
    "From the descriptive statistics and the histograms above, we notice that some of the variables, such as budget, revenue and runtime which shouldn't have zeroes as entries actually do. And for budget and revenue, the number of zeroes is significant. The histogram for release_year is skewed to the left, showing that more movies were released in later years. "
   ]
  },
  {
   "cell_type": "markdown",
   "id": "c5ff6170",
   "metadata": {},
   "source": [
    "### Data Cleaning"
   ]
  },
  {
   "cell_type": "markdown",
   "id": "0dc16a94",
   "metadata": {},
   "source": [
    " I performed the following operations to clean the data and prepare it for the investigation.\n",
    "\n",
    "<ol>\n",
    "<li>Dropped duplicate row</li>\n",
    "<li>Dropped some columns that are not relevent to the investigation</li>\n",
    "<li>Dropped rows with null values in the genres column</li>\n",
    "<li>Split the genres column into 5 and selected one, while dropping the others</li>\n",
    "<li>Filled the zero enteries in the runtime column with the mean runtime</li>\n",
    "<li>Changed the zeroes in the budget column to null values</li>\n",
    "</ol>"
   ]
  },
  {
   "cell_type": "markdown",
   "id": "d489868f",
   "metadata": {},
   "source": [
    "As discovered, there is just one duplicate row, we go ahead and drop the row"
   ]
  },
  {
   "cell_type": "code",
   "execution_count": 297,
   "id": "5ccccaa5",
   "metadata": {},
   "outputs": [],
   "source": [
    "# We drop the duplicate row\n",
    "movies.drop_duplicates (inplace=True)"
   ]
  },
  {
   "cell_type": "code",
   "execution_count": 298,
   "id": "e2633e4d",
   "metadata": {},
   "outputs": [
    {
     "data": {
      "text/plain": [
       "(10865, 21)"
      ]
     },
     "execution_count": 298,
     "metadata": {},
     "output_type": "execute_result"
    }
   ],
   "source": [
    "# Checking to see if the duplicate row was successfully dropped\n",
    "movies.shape"
   ]
  },
  {
   "cell_type": "markdown",
   "id": "b0123ef6",
   "metadata": {},
   "source": [
    "Several columns are not relevant to the analysis, we go ahead and drop most of them."
   ]
  },
  {
   "cell_type": "code",
   "execution_count": 299,
   "id": "573fd3f0",
   "metadata": {},
   "outputs": [],
   "source": [
    "#Dropping 12 columns which will not be used for this analysis\n",
    "movies.drop(columns=['id', 'imdb_id', 'cast', 'homepage', 'director', 'tagline', 'keywords', 'overview', 'production_companies', 'release_date', 'budget_adj', 'revenue_adj'], inplace=True)"
   ]
  },
  {
   "cell_type": "code",
   "execution_count": 300,
   "id": "8e28e132",
   "metadata": {},
   "outputs": [
    {
     "data": {
      "text/html": [
       "<div>\n",
       "<style scoped>\n",
       "    .dataframe tbody tr th:only-of-type {\n",
       "        vertical-align: middle;\n",
       "    }\n",
       "\n",
       "    .dataframe tbody tr th {\n",
       "        vertical-align: top;\n",
       "    }\n",
       "\n",
       "    .dataframe thead th {\n",
       "        text-align: right;\n",
       "    }\n",
       "</style>\n",
       "<table border=\"1\" class=\"dataframe\">\n",
       "  <thead>\n",
       "    <tr style=\"text-align: right;\">\n",
       "      <th></th>\n",
       "      <th>popularity</th>\n",
       "      <th>budget</th>\n",
       "      <th>revenue</th>\n",
       "      <th>original_title</th>\n",
       "      <th>runtime</th>\n",
       "      <th>genres</th>\n",
       "      <th>vote_count</th>\n",
       "      <th>vote_average</th>\n",
       "      <th>release_year</th>\n",
       "    </tr>\n",
       "  </thead>\n",
       "  <tbody>\n",
       "    <tr>\n",
       "      <th>0</th>\n",
       "      <td>32.985763</td>\n",
       "      <td>150000000</td>\n",
       "      <td>1513528810</td>\n",
       "      <td>Jurassic World</td>\n",
       "      <td>124</td>\n",
       "      <td>Action|Adventure|Science Fiction|Thriller</td>\n",
       "      <td>5562</td>\n",
       "      <td>6.5</td>\n",
       "      <td>2015</td>\n",
       "    </tr>\n",
       "    <tr>\n",
       "      <th>1</th>\n",
       "      <td>28.419936</td>\n",
       "      <td>150000000</td>\n",
       "      <td>378436354</td>\n",
       "      <td>Mad Max: Fury Road</td>\n",
       "      <td>120</td>\n",
       "      <td>Action|Adventure|Science Fiction|Thriller</td>\n",
       "      <td>6185</td>\n",
       "      <td>7.1</td>\n",
       "      <td>2015</td>\n",
       "    </tr>\n",
       "    <tr>\n",
       "      <th>2</th>\n",
       "      <td>13.112507</td>\n",
       "      <td>110000000</td>\n",
       "      <td>295238201</td>\n",
       "      <td>Insurgent</td>\n",
       "      <td>119</td>\n",
       "      <td>Adventure|Science Fiction|Thriller</td>\n",
       "      <td>2480</td>\n",
       "      <td>6.3</td>\n",
       "      <td>2015</td>\n",
       "    </tr>\n",
       "    <tr>\n",
       "      <th>3</th>\n",
       "      <td>11.173104</td>\n",
       "      <td>200000000</td>\n",
       "      <td>2068178225</td>\n",
       "      <td>Star Wars: The Force Awakens</td>\n",
       "      <td>136</td>\n",
       "      <td>Action|Adventure|Science Fiction|Fantasy</td>\n",
       "      <td>5292</td>\n",
       "      <td>7.5</td>\n",
       "      <td>2015</td>\n",
       "    </tr>\n",
       "    <tr>\n",
       "      <th>4</th>\n",
       "      <td>9.335014</td>\n",
       "      <td>190000000</td>\n",
       "      <td>1506249360</td>\n",
       "      <td>Furious 7</td>\n",
       "      <td>137</td>\n",
       "      <td>Action|Crime|Thriller</td>\n",
       "      <td>2947</td>\n",
       "      <td>7.3</td>\n",
       "      <td>2015</td>\n",
       "    </tr>\n",
       "  </tbody>\n",
       "</table>\n",
       "</div>"
      ],
      "text/plain": [
       "   popularity     budget     revenue                original_title  runtime  \\\n",
       "0   32.985763  150000000  1513528810                Jurassic World      124   \n",
       "1   28.419936  150000000   378436354            Mad Max: Fury Road      120   \n",
       "2   13.112507  110000000   295238201                     Insurgent      119   \n",
       "3   11.173104  200000000  2068178225  Star Wars: The Force Awakens      136   \n",
       "4    9.335014  190000000  1506249360                     Furious 7      137   \n",
       "\n",
       "                                      genres  vote_count  vote_average  \\\n",
       "0  Action|Adventure|Science Fiction|Thriller        5562           6.5   \n",
       "1  Action|Adventure|Science Fiction|Thriller        6185           7.1   \n",
       "2         Adventure|Science Fiction|Thriller        2480           6.3   \n",
       "3   Action|Adventure|Science Fiction|Fantasy        5292           7.5   \n",
       "4                      Action|Crime|Thriller        2947           7.3   \n",
       "\n",
       "   release_year  \n",
       "0          2015  \n",
       "1          2015  \n",
       "2          2015  \n",
       "3          2015  \n",
       "4          2015  "
      ]
     },
     "execution_count": 300,
     "metadata": {},
     "output_type": "execute_result"
    }
   ],
   "source": [
    "# A look at the remaining columns\n",
    "movies.head()"
   ]
  },
  {
   "cell_type": "code",
   "execution_count": 301,
   "id": "4a4222f9",
   "metadata": {},
   "outputs": [
    {
     "data": {
      "text/plain": [
       "popularity         0\n",
       "budget             0\n",
       "revenue            0\n",
       "original_title     0\n",
       "runtime            0\n",
       "genres            23\n",
       "vote_count         0\n",
       "vote_average       0\n",
       "release_year       0\n",
       "dtype: int64"
      ]
     },
     "execution_count": 301,
     "metadata": {},
     "output_type": "execute_result"
    }
   ],
   "source": [
    "#Checking to see if there are still columns that have rows with null values\n",
    "movies.isnull().sum()"
   ]
  },
  {
   "cell_type": "markdown",
   "id": "372b7d8d",
   "metadata": {},
   "source": [
    "Genres is the only column left with null values. We work on it."
   ]
  },
  {
   "cell_type": "code",
   "execution_count": 302,
   "id": "19feafb3",
   "metadata": {},
   "outputs": [
    {
     "data": {
      "image/png": "[encoded data removed]",
      "text/plain": [
       "<Figure size 864x720 with 9 Axes>"
      ]
     },
     "metadata": {},
     "output_type": "display_data"
    }
   ],
   "source": [
    "#Checking to compare the distribution of variables when the entire rows with null values in the genre column are dropped \n",
    "#with the distribution when they are not, as plotted in the histograms earlier.\n",
    "movies[movies.genres.notnull()].hist(figsize=(12,10));"
   ]
  },
  {
   "cell_type": "markdown",
   "id": "8f2414cd",
   "metadata": {},
   "source": [
    "From the two sets of histograms, we see that there are not much differences between the distribution of the variables when the null rows of the genres column are included and when they are not. Also, one cannot just fill the missing rows with random genres(strings). Thankfully, there are few rows involved. We therefore go with the option of dropping the rows where genres is null and continuing the analysis with the rest. "
   ]
  },
  {
   "cell_type": "code",
   "execution_count": 303,
   "id": "7bd340a9",
   "metadata": {},
   "outputs": [],
   "source": [
    "#Dropping the rows with null values\n",
    "movies.dropna(inplace=True)"
   ]
  },
  {
   "cell_type": "code",
   "execution_count": 304,
   "id": "10af6ddb",
   "metadata": {},
   "outputs": [
    {
     "data": {
      "text/plain": [
       "popularity        0\n",
       "budget            0\n",
       "revenue           0\n",
       "original_title    0\n",
       "runtime           0\n",
       "genres            0\n",
       "vote_count        0\n",
       "vote_average      0\n",
       "release_year      0\n",
       "dtype: int64"
      ]
     },
     "execution_count": 304,
     "metadata": {},
     "output_type": "execute_result"
    }
   ],
   "source": [
    "#Checking to see that the rows have been dropped\n",
    "movies.isnull().sum()"
   ]
  },
  {
   "cell_type": "code",
   "execution_count": 305,
   "id": "8e222d17",
   "metadata": {},
   "outputs": [
    {
     "data": {
      "text/plain": [
       "(10842, 9)"
      ]
     },
     "execution_count": 305,
     "metadata": {},
     "output_type": "execute_result"
    }
   ],
   "source": [
    "#Finding out the number of rows and columns left\n",
    "movies.shape"
   ]
  },
  {
   "cell_type": "markdown",
   "id": "3f5380a7",
   "metadata": {},
   "source": [
    "In the dataset, we also see that the genres column has more than one genre recorded for one movie. Making analysis with it would be difficult, so we shall split the different enteries under the genres column into different columns, having one genre in each column."
   ]
  },
  {
   "cell_type": "code",
   "execution_count": 306,
   "id": "97ea85c5",
   "metadata": {},
   "outputs": [],
   "source": [
    "#Splitting the genres column\n",
    "movies[['genre', 'genre1', 'genre2', 'genre3', 'genre4']]=movies['genres'].str.split('|',expand=True)"
   ]
  },
  {
   "cell_type": "code",
   "execution_count": 307,
   "id": "6da5fbfc",
   "metadata": {},
   "outputs": [
    {
     "data": {
      "text/html": [
       "<div>\n",
       "<style scoped>\n",
       "    .dataframe tbody tr th:only-of-type {\n",
       "        vertical-align: middle;\n",
       "    }\n",
       "\n",
       "    .dataframe tbody tr th {\n",
       "        vertical-align: top;\n",
       "    }\n",
       "\n",
       "    .dataframe thead th {\n",
       "        text-align: right;\n",
       "    }\n",
       "</style>\n",
       "<table border=\"1\" class=\"dataframe\">\n",
       "  <thead>\n",
       "    <tr style=\"text-align: right;\">\n",
       "      <th></th>\n",
       "      <th>popularity</th>\n",
       "      <th>budget</th>\n",
       "      <th>revenue</th>\n",
       "      <th>original_title</th>\n",
       "      <th>runtime</th>\n",
       "      <th>genres</th>\n",
       "      <th>vote_count</th>\n",
       "      <th>vote_average</th>\n",
       "      <th>release_year</th>\n",
       "      <th>genre</th>\n",
       "      <th>genre1</th>\n",
       "      <th>genre2</th>\n",
       "      <th>genre3</th>\n",
       "      <th>genre4</th>\n",
       "    </tr>\n",
       "  </thead>\n",
       "  <tbody>\n",
       "    <tr>\n",
       "      <th>0</th>\n",
       "      <td>32.985763</td>\n",
       "      <td>150000000</td>\n",
       "      <td>1513528810</td>\n",
       "      <td>Jurassic World</td>\n",
       "      <td>124</td>\n",
       "      <td>Action|Adventure|Science Fiction|Thriller</td>\n",
       "      <td>5562</td>\n",
       "      <td>6.5</td>\n",
       "      <td>2015</td>\n",
       "      <td>Action</td>\n",
       "      <td>Adventure</td>\n",
       "      <td>Science Fiction</td>\n",
       "      <td>Thriller</td>\n",
       "      <td>None</td>\n",
       "    </tr>\n",
       "    <tr>\n",
       "      <th>1</th>\n",
       "      <td>28.419936</td>\n",
       "      <td>150000000</td>\n",
       "      <td>378436354</td>\n",
       "      <td>Mad Max: Fury Road</td>\n",
       "      <td>120</td>\n",
       "      <td>Action|Adventure|Science Fiction|Thriller</td>\n",
       "      <td>6185</td>\n",
       "      <td>7.1</td>\n",
       "      <td>2015</td>\n",
       "      <td>Action</td>\n",
       "      <td>Adventure</td>\n",
       "      <td>Science Fiction</td>\n",
       "      <td>Thriller</td>\n",
       "      <td>None</td>\n",
       "    </tr>\n",
       "    <tr>\n",
       "      <th>2</th>\n",
       "      <td>13.112507</td>\n",
       "      <td>110000000</td>\n",
       "      <td>295238201</td>\n",
       "      <td>Insurgent</td>\n",
       "      <td>119</td>\n",
       "      <td>Adventure|Science Fiction|Thriller</td>\n",
       "      <td>2480</td>\n",
       "      <td>6.3</td>\n",
       "      <td>2015</td>\n",
       "      <td>Adventure</td>\n",
       "      <td>Science Fiction</td>\n",
       "      <td>Thriller</td>\n",
       "      <td>None</td>\n",
       "      <td>None</td>\n",
       "    </tr>\n",
       "    <tr>\n",
       "      <th>3</th>\n",
       "      <td>11.173104</td>\n",
       "      <td>200000000</td>\n",
       "      <td>2068178225</td>\n",
       "      <td>Star Wars: The Force Awakens</td>\n",
       "      <td>136</td>\n",
       "      <td>Action|Adventure|Science Fiction|Fantasy</td>\n",
       "      <td>5292</td>\n",
       "      <td>7.5</td>\n",
       "      <td>2015</td>\n",
       "      <td>Action</td>\n",
       "      <td>Adventure</td>\n",
       "      <td>Science Fiction</td>\n",
       "      <td>Fantasy</td>\n",
       "      <td>None</td>\n",
       "    </tr>\n",
       "    <tr>\n",
       "      <th>4</th>\n",
       "      <td>9.335014</td>\n",
       "      <td>190000000</td>\n",
       "      <td>1506249360</td>\n",
       "      <td>Furious 7</td>\n",
       "      <td>137</td>\n",
       "      <td>Action|Crime|Thriller</td>\n",
       "      <td>2947</td>\n",
       "      <td>7.3</td>\n",
       "      <td>2015</td>\n",
       "      <td>Action</td>\n",
       "      <td>Crime</td>\n",
       "      <td>Thriller</td>\n",
       "      <td>None</td>\n",
       "      <td>None</td>\n",
       "    </tr>\n",
       "  </tbody>\n",
       "</table>\n",
       "</div>"
      ],
      "text/plain": [
       "   popularity     budget     revenue                original_title  runtime  \\\n",
       "0   32.985763  150000000  1513528810                Jurassic World      124   \n",
       "1   28.419936  150000000   378436354            Mad Max: Fury Road      120   \n",
       "2   13.112507  110000000   295238201                     Insurgent      119   \n",
       "3   11.173104  200000000  2068178225  Star Wars: The Force Awakens      136   \n",
       "4    9.335014  190000000  1506249360                     Furious 7      137   \n",
       "\n",
       "                                      genres  vote_count  vote_average  \\\n",
       "0  Action|Adventure|Science Fiction|Thriller        5562           6.5   \n",
       "1  Action|Adventure|Science Fiction|Thriller        6185           7.1   \n",
       "2         Adventure|Science Fiction|Thriller        2480           6.3   \n",
       "3   Action|Adventure|Science Fiction|Fantasy        5292           7.5   \n",
       "4                      Action|Crime|Thriller        2947           7.3   \n",
       "\n",
       "   release_year      genre           genre1           genre2    genre3 genre4  \n",
       "0          2015     Action        Adventure  Science Fiction  Thriller   None  \n",
       "1          2015     Action        Adventure  Science Fiction  Thriller   None  \n",
       "2          2015  Adventure  Science Fiction         Thriller      None   None  \n",
       "3          2015     Action        Adventure  Science Fiction   Fantasy   None  \n",
       "4          2015     Action            Crime         Thriller      None   None  "
      ]
     },
     "execution_count": 307,
     "metadata": {},
     "output_type": "execute_result"
    }
   ],
   "source": [
    "#Checking to see that the new columns have been added\n",
    "movies.head()"
   ]
  },
  {
   "cell_type": "code",
   "execution_count": 308,
   "id": "73c0d370",
   "metadata": {},
   "outputs": [
    {
     "data": {
      "text/plain": [
       "(10842, 14)"
      ]
     },
     "execution_count": 308,
     "metadata": {},
     "output_type": "execute_result"
    }
   ],
   "source": [
    "#Confirming the additional columns\n",
    "movies.shape"
   ]
  },
  {
   "cell_type": "code",
   "execution_count": 309,
   "id": "fd27fb22",
   "metadata": {},
   "outputs": [
    {
     "data": {
      "text/plain": [
       "popularity            0\n",
       "budget                0\n",
       "revenue               0\n",
       "original_title        0\n",
       "runtime               0\n",
       "genres                0\n",
       "vote_count            0\n",
       "vote_average          0\n",
       "release_year          0\n",
       "genre                 0\n",
       "genre1             2328\n",
       "genre2             5764\n",
       "genre3             8862\n",
       "genre4            10301\n",
       "dtype: int64"
      ]
     },
     "execution_count": 309,
     "metadata": {},
     "output_type": "execute_result"
    }
   ],
   "source": [
    "#Checking for null values in the new genres columns \n",
    "movies.isnull().sum()"
   ]
  },
  {
   "cell_type": "markdown",
   "id": "d8a52b7c",
   "metadata": {},
   "source": [
    "The result obtained above shows that a significant number of movies have just one genre. The second of the newly created genre columns has over 2,000 missing/null values, while the 3rd, 4th and 5th have even more null values. We shall drop the other genre columns, leaving only the column without null values. We shall also drop the original genres column"
   ]
  },
  {
   "cell_type": "code",
   "execution_count": 310,
   "id": "2c9d07de",
   "metadata": {},
   "outputs": [],
   "source": [
    "#Dropping all other columns concerning the movie genres except the column named 'genre'.\n",
    "movies.drop(columns=['genres','genre1','genre2','genre3','genre4'],inplace=True)"
   ]
  },
  {
   "cell_type": "code",
   "execution_count": 311,
   "id": "caabfc0c",
   "metadata": {},
   "outputs": [
    {
     "data": {
      "text/html": [
       "<div>\n",
       "<style scoped>\n",
       "    .dataframe tbody tr th:only-of-type {\n",
       "        vertical-align: middle;\n",
       "    }\n",
       "\n",
       "    .dataframe tbody tr th {\n",
       "        vertical-align: top;\n",
       "    }\n",
       "\n",
       "    .dataframe thead th {\n",
       "        text-align: right;\n",
       "    }\n",
       "</style>\n",
       "<table border=\"1\" class=\"dataframe\">\n",
       "  <thead>\n",
       "    <tr style=\"text-align: right;\">\n",
       "      <th></th>\n",
       "      <th>popularity</th>\n",
       "      <th>budget</th>\n",
       "      <th>revenue</th>\n",
       "      <th>original_title</th>\n",
       "      <th>runtime</th>\n",
       "      <th>vote_count</th>\n",
       "      <th>vote_average</th>\n",
       "      <th>release_year</th>\n",
       "      <th>genre</th>\n",
       "    </tr>\n",
       "  </thead>\n",
       "  <tbody>\n",
       "    <tr>\n",
       "      <th>0</th>\n",
       "      <td>32.985763</td>\n",
       "      <td>150000000</td>\n",
       "      <td>1513528810</td>\n",
       "      <td>Jurassic World</td>\n",
       "      <td>124</td>\n",
       "      <td>5562</td>\n",
       "      <td>6.5</td>\n",
       "      <td>2015</td>\n",
       "      <td>Action</td>\n",
       "    </tr>\n",
       "    <tr>\n",
       "      <th>1</th>\n",
       "      <td>28.419936</td>\n",
       "      <td>150000000</td>\n",
       "      <td>378436354</td>\n",
       "      <td>Mad Max: Fury Road</td>\n",
       "      <td>120</td>\n",
       "      <td>6185</td>\n",
       "      <td>7.1</td>\n",
       "      <td>2015</td>\n",
       "      <td>Action</td>\n",
       "    </tr>\n",
       "    <tr>\n",
       "      <th>2</th>\n",
       "      <td>13.112507</td>\n",
       "      <td>110000000</td>\n",
       "      <td>295238201</td>\n",
       "      <td>Insurgent</td>\n",
       "      <td>119</td>\n",
       "      <td>2480</td>\n",
       "      <td>6.3</td>\n",
       "      <td>2015</td>\n",
       "      <td>Adventure</td>\n",
       "    </tr>\n",
       "    <tr>\n",
       "      <th>3</th>\n",
       "      <td>11.173104</td>\n",
       "      <td>200000000</td>\n",
       "      <td>2068178225</td>\n",
       "      <td>Star Wars: The Force Awakens</td>\n",
       "      <td>136</td>\n",
       "      <td>5292</td>\n",
       "      <td>7.5</td>\n",
       "      <td>2015</td>\n",
       "      <td>Action</td>\n",
       "    </tr>\n",
       "    <tr>\n",
       "      <th>4</th>\n",
       "      <td>9.335014</td>\n",
       "      <td>190000000</td>\n",
       "      <td>1506249360</td>\n",
       "      <td>Furious 7</td>\n",
       "      <td>137</td>\n",
       "      <td>2947</td>\n",
       "      <td>7.3</td>\n",
       "      <td>2015</td>\n",
       "      <td>Action</td>\n",
       "    </tr>\n",
       "  </tbody>\n",
       "</table>\n",
       "</div>"
      ],
      "text/plain": [
       "   popularity     budget     revenue                original_title  runtime  \\\n",
       "0   32.985763  150000000  1513528810                Jurassic World      124   \n",
       "1   28.419936  150000000   378436354            Mad Max: Fury Road      120   \n",
       "2   13.112507  110000000   295238201                     Insurgent      119   \n",
       "3   11.173104  200000000  2068178225  Star Wars: The Force Awakens      136   \n",
       "4    9.335014  190000000  1506249360                     Furious 7      137   \n",
       "\n",
       "   vote_count  vote_average  release_year      genre  \n",
       "0        5562           6.5          2015     Action  \n",
       "1        6185           7.1          2015     Action  \n",
       "2        2480           6.3          2015  Adventure  \n",
       "3        5292           7.5          2015     Action  \n",
       "4        2947           7.3          2015     Action  "
      ]
     },
     "execution_count": 311,
     "metadata": {},
     "output_type": "execute_result"
    }
   ],
   "source": [
    "movies.head()"
   ]
  },
  {
   "cell_type": "markdown",
   "id": "c14fc596",
   "metadata": {},
   "source": [
    "We shall now work on columns relevant to the analysis which have odd zero entries"
   ]
  },
  {
   "cell_type": "code",
   "execution_count": 312,
   "id": "f258fb64",
   "metadata": {},
   "outputs": [
    {
     "data": {
      "text/plain": [
       "30"
      ]
     },
     "execution_count": 312,
     "metadata": {},
     "output_type": "execute_result"
    }
   ],
   "source": [
    "#From the histogram, we see that some movies seem to have zero runtime, which is odd, we confirm this here\n",
    "movies.query('runtime==0').count().runtime"
   ]
  },
  {
   "cell_type": "code",
   "execution_count": 313,
   "id": "52a477f3",
   "metadata": {},
   "outputs": [
    {
     "data": {
      "text/plain": [
       "102.1384430916805"
      ]
     },
     "execution_count": 313,
     "metadata": {},
     "output_type": "execute_result"
    }
   ],
   "source": [
    "# We shall work out the mean of the runtime column and use same to replace the zeroes in the column\n",
    "mean_runtime=movies.runtime.mean()\n",
    "mean_runtime"
   ]
  },
  {
   "cell_type": "code",
   "execution_count": 314,
   "id": "92a72726",
   "metadata": {},
   "outputs": [],
   "source": [
    "#Replacing zeroes with mean of runtime\n",
    "movies['runtime'] = movies['runtime'].replace(0, mean_runtime)"
   ]
  },
  {
   "cell_type": "code",
   "execution_count": 315,
   "id": "15b509fe",
   "metadata": {},
   "outputs": [
    {
     "data": {
      "text/html": [
       "<div>\n",
       "<style scoped>\n",
       "    .dataframe tbody tr th:only-of-type {\n",
       "        vertical-align: middle;\n",
       "    }\n",
       "\n",
       "    .dataframe tbody tr th {\n",
       "        vertical-align: top;\n",
       "    }\n",
       "\n",
       "    .dataframe thead th {\n",
       "        text-align: right;\n",
       "    }\n",
       "</style>\n",
       "<table border=\"1\" class=\"dataframe\">\n",
       "  <thead>\n",
       "    <tr style=\"text-align: right;\">\n",
       "      <th></th>\n",
       "      <th>popularity</th>\n",
       "      <th>budget</th>\n",
       "      <th>revenue</th>\n",
       "      <th>original_title</th>\n",
       "      <th>runtime</th>\n",
       "      <th>vote_count</th>\n",
       "      <th>vote_average</th>\n",
       "      <th>release_year</th>\n",
       "      <th>genre</th>\n",
       "    </tr>\n",
       "  </thead>\n",
       "  <tbody>\n",
       "  </tbody>\n",
       "</table>\n",
       "</div>"
      ],
      "text/plain": [
       "Empty DataFrame\n",
       "Columns: [popularity, budget, revenue, original_title, runtime, vote_count, vote_average, release_year, genre]\n",
       "Index: []"
      ]
     },
     "execution_count": 315,
     "metadata": {},
     "output_type": "execute_result"
    }
   ],
   "source": [
    "#Confirming that there are no more values with zeroes in the runtime column\n",
    "movies.query('runtime==0')"
   ]
  },
  {
   "cell_type": "markdown",
   "id": "b9b775c5",
   "metadata": {},
   "source": [
    "The budget column is relevant in our analysis and from the histogram plotted above, it seems there are rows with zeroes as well."
   ]
  },
  {
   "cell_type": "code",
   "execution_count": 316,
   "id": "8c2529f4",
   "metadata": {},
   "outputs": [
    {
     "data": {
      "text/plain": [
       "5674"
      ]
     },
     "execution_count": 316,
     "metadata": {},
     "output_type": "execute_result"
    }
   ],
   "source": [
    "#Checking to see how many rows have zeroes in the budget column\n",
    "movies.query('budget==0').count().budget"
   ]
  },
  {
   "cell_type": "code",
   "execution_count": 317,
   "id": "6fc6cedb",
   "metadata": {},
   "outputs": [
    {
     "data": {
      "text/plain": [
       "count    1.084200e+04\n",
       "mean     1.465531e+07\n",
       "std      3.093971e+07\n",
       "min      0.000000e+00\n",
       "25%      0.000000e+00\n",
       "50%      0.000000e+00\n",
       "75%      1.500000e+07\n",
       "max      4.250000e+08\n",
       "Name: budget, dtype: float64"
      ]
     },
     "execution_count": 317,
     "metadata": {},
     "output_type": "execute_result"
    }
   ],
   "source": [
    "#Checking what the minimum value and quartile values look like for the budget column\n",
    "movies.budget.describe()"
   ]
  },
  {
   "cell_type": "markdown",
   "id": "081062d9",
   "metadata": {},
   "source": [
    "The number of rows with zero values in the budget column is very high, about half the entire number of rows.  Also, the statistics for the budget column doesn't look comfortable for the analysis. We see that as far as the 50th percenile, the result is still 0. This is because of the significant zero values in the column. It would not be ideal to drop such a large number of rows across the entire dataset, because this would affect the analysis to be done with other columns. Also filling such a large number of rows with self calculated values could result to misleading analysis. We therefore choose to make them null values."
   ]
  },
  {
   "cell_type": "code",
   "execution_count": 318,
   "id": "e5cc0abc",
   "metadata": {},
   "outputs": [],
   "source": [
    "#Replacing 0 with null values in the budget column\n",
    "movies['budget'] = movies['budget'].replace(0, np.nan)"
   ]
  },
  {
   "cell_type": "code",
   "execution_count": 319,
   "id": "1f81782c",
   "metadata": {},
   "outputs": [
    {
     "data": {
      "text/plain": [
       "0"
      ]
     },
     "execution_count": 319,
     "metadata": {},
     "output_type": "execute_result"
    }
   ],
   "source": [
    "#Confirming that there are no zeroes in the budget column anymore\n",
    "movies.query('budget==0').count().budget"
   ]
  },
  {
   "cell_type": "code",
   "execution_count": 320,
   "id": "f8176bb4",
   "metadata": {},
   "outputs": [
    {
     "data": {
      "text/plain": [
       "count    5.168000e+03\n",
       "mean     3.074552e+07\n",
       "std      3.890583e+07\n",
       "min      1.000000e+00\n",
       "25%      6.000000e+06\n",
       "50%      1.700000e+07\n",
       "75%      4.000000e+07\n",
       "max      4.250000e+08\n",
       "Name: budget, dtype: float64"
      ]
     },
     "execution_count": 320,
     "metadata": {},
     "output_type": "execute_result"
    }
   ],
   "source": [
    "#Let us see what the summary statistics looks like now \n",
    "movies.describe().budget"
   ]
  },
  {
   "cell_type": "markdown",
   "id": "f53abbb2",
   "metadata": {},
   "source": [
    "The summary statistics looks a lot better and the median and mean values look more obtainable."
   ]
  },
  {
   "cell_type": "markdown",
   "id": "0265f17a",
   "metadata": {},
   "source": [
    "## Exploratory Data Analysis"
   ]
  },
  {
   "cell_type": "markdown",
   "id": "3a0e34a7",
   "metadata": {},
   "source": [
    "The dataset has been cleaned. We now begin the next step, the investigation proper."
   ]
  },
  {
   "cell_type": "markdown",
   "id": "30b81cae",
   "metadata": {},
   "source": [
    "### Research Question 1: Are particular genres of movies more popular than others?\n"
   ]
  },
  {
   "cell_type": "markdown",
   "id": "4b74cfc3",
   "metadata": {},
   "source": [
    "To answer this question, we will calculate the mean popularity of each genre to find out which genre was more popular.<br>\n",
    "We shall go ahead to divide the release years of the movies in the dataset into 3 time periods to see if these popular movies were also popular across time periods.<br> We shall finally check to see that the most popular genres were not more popular because there were more movies of such genres released."
   ]
  },
  {
   "cell_type": "code",
   "execution_count": 321,
   "id": "e6f70869",
   "metadata": {},
   "outputs": [
    {
     "data": {
      "text/plain": [
       "genre\n",
       "Adventure          1.217868\n",
       "Science Fiction    1.073096\n",
       "Fantasy            0.865390\n",
       "Action             0.836394\n",
       "Animation          0.810370\n",
       "War                0.767041\n",
       "History            0.764636\n",
       "Family             0.730987\n",
       "Romance            0.704157\n",
       "Crime              0.694063\n",
       "Western            0.690646\n",
       "Thriller           0.673381\n",
       "Mystery            0.596896\n",
       "Drama              0.552446\n",
       "Comedy             0.537133\n",
       "Horror             0.468611\n",
       "Music              0.447730\n",
       "TV Movie           0.246190\n",
       "Documentary        0.177023\n",
       "Foreign            0.167124\n",
       "Name: popularity, dtype: float64"
      ]
     },
     "execution_count": 321,
     "metadata": {},
     "output_type": "execute_result"
    }
   ],
   "source": [
    "#Checking the mean popularity of the various movie genres and sorting them in descending order according to popularity.\n",
    "movies.groupby('genre').popularity.mean().sort_values(ascending=False)"
   ]
  },
  {
   "cell_type": "code",
   "execution_count": 322,
   "id": "4c58a0ba",
   "metadata": {},
   "outputs": [
    {
     "data": {
      "image/png": "[encoded data removed]",
      "text/plain": [
       "<Figure size 1080x432 with 1 Axes>"
      ]
     },
     "metadata": {},
     "output_type": "display_data"
    }
   ],
   "source": [
    "# Visuals to see which genres were more popular and which were the least popular\n",
    "movies.groupby('genre').popularity.mean().sort_values(ascending=False).plot(kind='bar', figsize=(15,6))\n",
    "plt.title('Popularity level of movie genres')\n",
    "plt.xlabel('Genres')\n",
    "plt.ylabel('Levels of popularity');"
   ]
  },
  {
   "cell_type": "markdown",
   "id": "b4842209",
   "metadata": {},
   "source": [
    "From the bar chart above, we see that the top five most popular genre of movies were Adventure, Science Fiction, Fantasy, Action and Animation. The least popular genres, from the least include Foreign,Documentary, TV Movie, Music and Horror. "
   ]
  },
  {
   "cell_type": "markdown",
   "id": "5de7217f",
   "metadata": {},
   "source": [
    "Having seen this, we go ahead to check if these popular genres were popular across time periods. To do this, we divide the release years of the movies into three time periods: mid_nineties (for movies released from year 1960 to 1979), late_nineties (for movies released from year 1980 to 1999), early_2000s(for movies released from year 2000 to 2015). <br> Here, our focus is on the time periods and we shall work with th mean popularity for different genres in the three time periods.  "
   ]
  },
  {
   "cell_type": "code",
   "execution_count": 323,
   "id": "1939fd1a",
   "metadata": {},
   "outputs": [],
   "source": [
    "#year_edges refers to the different ranges for dividing the values in the release_year column, \n",
    "#while year_names are the names of the various periods into which the release_years will be divided.\n",
    "year_edges = [1959, 1979, 1999, 2015]\n",
    "year_names = ['mid_nineties', 'late_nineties','early_2000s']"
   ]
  },
  {
   "cell_type": "code",
   "execution_count": 324,
   "id": "616b5171",
   "metadata": {},
   "outputs": [],
   "source": [
    "#Creating a new column called periods which contains six differents equally divided years. \n",
    "movies['periods']=pd.cut(movies['release_year'], year_edges, labels=year_names)"
   ]
  },
  {
   "cell_type": "code",
   "execution_count": 325,
   "id": "6dc0d242",
   "metadata": {},
   "outputs": [
    {
     "data": {
      "text/html": [
       "<div>\n",
       "<style scoped>\n",
       "    .dataframe tbody tr th:only-of-type {\n",
       "        vertical-align: middle;\n",
       "    }\n",
       "\n",
       "    .dataframe tbody tr th {\n",
       "        vertical-align: top;\n",
       "    }\n",
       "\n",
       "    .dataframe thead th {\n",
       "        text-align: right;\n",
       "    }\n",
       "</style>\n",
       "<table border=\"1\" class=\"dataframe\">\n",
       "  <thead>\n",
       "    <tr style=\"text-align: right;\">\n",
       "      <th></th>\n",
       "      <th>popularity</th>\n",
       "      <th>budget</th>\n",
       "      <th>revenue</th>\n",
       "      <th>original_title</th>\n",
       "      <th>runtime</th>\n",
       "      <th>vote_count</th>\n",
       "      <th>vote_average</th>\n",
       "      <th>release_year</th>\n",
       "      <th>genre</th>\n",
       "      <th>periods</th>\n",
       "    </tr>\n",
       "  </thead>\n",
       "  <tbody>\n",
       "    <tr>\n",
       "      <th>0</th>\n",
       "      <td>32.985763</td>\n",
       "      <td>150000000.0</td>\n",
       "      <td>1513528810</td>\n",
       "      <td>Jurassic World</td>\n",
       "      <td>124.0</td>\n",
       "      <td>5562</td>\n",
       "      <td>6.5</td>\n",
       "      <td>2015</td>\n",
       "      <td>Action</td>\n",
       "      <td>early_2000s</td>\n",
       "    </tr>\n",
       "    <tr>\n",
       "      <th>1</th>\n",
       "      <td>28.419936</td>\n",
       "      <td>150000000.0</td>\n",
       "      <td>378436354</td>\n",
       "      <td>Mad Max: Fury Road</td>\n",
       "      <td>120.0</td>\n",
       "      <td>6185</td>\n",
       "      <td>7.1</td>\n",
       "      <td>2015</td>\n",
       "      <td>Action</td>\n",
       "      <td>early_2000s</td>\n",
       "    </tr>\n",
       "  </tbody>\n",
       "</table>\n",
       "</div>"
      ],
      "text/plain": [
       "   popularity       budget     revenue      original_title  runtime  \\\n",
       "0   32.985763  150000000.0  1513528810      Jurassic World    124.0   \n",
       "1   28.419936  150000000.0   378436354  Mad Max: Fury Road    120.0   \n",
       "\n",
       "   vote_count  vote_average  release_year   genre      periods  \n",
       "0        5562           6.5          2015  Action  early_2000s  \n",
       "1        6185           7.1          2015  Action  early_2000s  "
      ]
     },
     "execution_count": 325,
     "metadata": {},
     "output_type": "execute_result"
    }
   ],
   "source": [
    "movies.head(2)"
   ]
  },
  {
   "cell_type": "code",
   "execution_count": 326,
   "id": "a1cc4ee0",
   "metadata": {},
   "outputs": [
    {
     "data": {
      "text/plain": [
       "0"
      ]
     },
     "execution_count": 326,
     "metadata": {},
     "output_type": "execute_result"
    }
   ],
   "source": [
    "#Confirming that all release years have been assigned to a category in the periods column\n",
    "movies.isnull().sum().periods"
   ]
  },
  {
   "cell_type": "code",
   "execution_count": 327,
   "id": "d61cd5e4",
   "metadata": {},
   "outputs": [
    {
     "data": {
      "text/plain": [
       "periods       genre    \n",
       "mid_nineties  Action       0.402030\n",
       "              Adventure    0.934520\n",
       "              Animation    0.643331\n",
       "              Comedy       0.406798\n",
       "              Crime        0.468647\n",
       "Name: popularity, dtype: float64"
      ]
     },
     "execution_count": 327,
     "metadata": {},
     "output_type": "execute_result"
    }
   ],
   "source": [
    "#Calculating the mean popularity of different movie genres across the three time period \n",
    "#and assigning it to the variable name genre_in_periods\n",
    "genre_in_periods = movies.groupby(['periods','genre']).popularity.mean()\n",
    "genre_in_periods.head()"
   ]
  },
  {
   "cell_type": "code",
   "execution_count": 328,
   "id": "c6c1e6d6",
   "metadata": {},
   "outputs": [
    {
     "data": {
      "text/plain": [
       "genre\n",
       "Family             0.948374\n",
       "Adventure          0.934520\n",
       "Science Fiction    0.683043\n",
       "Animation          0.643331\n",
       "History            0.566273\n",
       "Music              0.475808\n",
       "Drama              0.473699\n",
       "Crime              0.468647\n",
       "Comedy             0.406798\n",
       "Action             0.402030\n",
       "Fantasy            0.375187\n",
       "Romance            0.364388\n",
       "Horror             0.363824\n",
       "Western            0.342744\n",
       "Thriller           0.331218\n",
       "Mystery            0.263556\n",
       "TV Movie           0.248253\n",
       "War                0.229594\n",
       "Documentary        0.159735\n",
       "Foreign                 NaN\n",
       "Name: popularity, dtype: float64"
      ]
     },
     "execution_count": 328,
     "metadata": {},
     "output_type": "execute_result"
    }
   ],
   "source": [
    "# We take a look at the popularity of the various genres in the mid_nineties, sorting them out in order of popularity\n",
    "genre_in_periods['mid_nineties'].sort_values(ascending=False)"
   ]
  },
  {
   "cell_type": "code",
   "execution_count": 329,
   "id": "b5b6fd7b",
   "metadata": {},
   "outputs": [],
   "source": [
    "# We define a function with which we shall plot the bar charts for the three time periods\n",
    "def bar_chart(period,title,xlabel,ylabel,color):\n",
    "    genre_in_periods[period].sort_values(ascending=False).plot(kind='bar', figsize=(20,6), color = color)\n",
    "    plt.title(title)\n",
    "    plt.xlabel(xlabel)\n",
    "    plt.ylabel(ylabel);"
   ]
  },
  {
   "cell_type": "code",
   "execution_count": 330,
   "id": "0ff928f1",
   "metadata": {},
   "outputs": [
    {
     "data": {
      "image/png": "[encoded data removed]",
      "text/plain": [
       "<Figure size 1440x432 with 1 Axes>"
      ]
     },
     "metadata": {},
     "output_type": "display_data"
    }
   ],
   "source": [
    "#Visualizing the popularity of the various genres in the mid_nineties\n",
    "bar_chart('mid_nineties','Popularity level of movie genres in the mid_nineties',\n",
    "'Genres in the mid_nineties', 'Levels of popularity', 'gray')"
   ]
  },
  {
   "cell_type": "markdown",
   "id": "f93bcfcd",
   "metadata": {},
   "source": [
    "From the bar chart above, we see that three of the overall top five popular genres were among the top five in the mid_nineties alone, they include Adventure, Science fiction and Animation. <br>\n",
    "Foreign, Documentary and TV movie were also still among the five least popular in the mid-nineties."
   ]
  },
  {
   "cell_type": "code",
   "execution_count": 331,
   "id": "b3495c98",
   "metadata": {},
   "outputs": [
    {
     "data": {
      "text/plain": [
       "genre\n",
       "Adventure          0.937380\n",
       "Science Fiction    0.912746\n",
       "Animation          0.853473\n",
       "Romance            0.832256\n",
       "Family             0.711542\n",
       "Fantasy            0.653676\n",
       "Crime              0.641604\n",
       "Thriller           0.617572\n",
       "Action             0.614788\n",
       "Drama              0.530666\n",
       "History            0.528178\n",
       "Mystery            0.514568\n",
       "Horror             0.503653\n",
       "Comedy             0.487805\n",
       "War                0.478898\n",
       "Music              0.458506\n",
       "Western            0.389879\n",
       "Foreign            0.233849\n",
       "TV Movie           0.212097\n",
       "Documentary        0.199922\n",
       "Name: popularity, dtype: float64"
      ]
     },
     "execution_count": 331,
     "metadata": {},
     "output_type": "execute_result"
    }
   ],
   "source": [
    "# We take a look at the popularity of the various genres in the late_nineties, sorted in order of popularity\n",
    "genre_in_periods['late_nineties'].sort_values(ascending=False)"
   ]
  },
  {
   "cell_type": "code",
   "execution_count": 332,
   "id": "c355e6e3",
   "metadata": {},
   "outputs": [
    {
     "data": {
      "image/png": "[encoded data removed]",
      "text/plain": [
       "<Figure size 1440x432 with 1 Axes>"
      ]
     },
     "metadata": {},
     "output_type": "display_data"
    }
   ],
   "source": [
    "#Visualizing the popularity of the various genres in the late_nineties\n",
    "bar_chart('late_nineties','Popularity level of movie genres in the late_nineties',\n",
    "'Genres in the late_nineties', 'Levels of popularity', 'brown')"
   ]
  },
  {
   "cell_type": "markdown",
   "id": "e08514be",
   "metadata": {},
   "source": [
    "From the bar chart for movies released in the late_nineties above, we see that three of the overall top five popular genres were among the top five here, they include Adventure, Science fiction and Animation.<br>\n",
    "Documentary, foreign, TV movies, as well as Music also featured in the bottom five here as well"
   ]
  },
  {
   "cell_type": "code",
   "execution_count": 333,
   "id": "19e4e5da",
   "metadata": {},
   "outputs": [
    {
     "data": {
      "text/plain": [
       "genre\n",
       "Adventure          1.422759\n",
       "Western            1.291732\n",
       "Science Fiction    1.197153\n",
       "Fantasy            1.097641\n",
       "Action             1.024665\n",
       "War                0.972339\n",
       "History            0.858881\n",
       "Animation          0.813082\n",
       "Crime              0.763397\n",
       "Family             0.722741\n",
       "Thriller           0.710800\n",
       "Mystery            0.691200\n",
       "Romance            0.685871\n",
       "Comedy             0.573769\n",
       "Drama              0.569361\n",
       "Horror             0.473784\n",
       "Music              0.440356\n",
       "TV Movie           0.256847\n",
       "Documentary        0.175710\n",
       "Foreign            0.133761\n",
       "Name: popularity, dtype: float64"
      ]
     },
     "execution_count": 333,
     "metadata": {},
     "output_type": "execute_result"
    }
   ],
   "source": [
    "# And finally, a look at the popularity of the various genres in the early_2000s, sorted in order of popularity\n",
    "genre_in_periods['early_2000s'].sort_values(ascending=False)"
   ]
  },
  {
   "cell_type": "code",
   "execution_count": 334,
   "id": "1f5a8e07",
   "metadata": {},
   "outputs": [
    {
     "data": {
      "image/png": "[encoded data removed]",
      "text/plain": [
       "<Figure size 1440x432 with 1 Axes>"
      ]
     },
     "metadata": {},
     "output_type": "display_data"
    }
   ],
   "source": [
    "#Visualizing the popularity of the various genres in the early 2000s\n",
    "bar_chart('early_2000s','Popularity level of movie genres in the early_2000s',\n",
    "'Genres in the early_2000s', 'Levels of popularity', 'orange')"
   ]
  },
  {
   "cell_type": "markdown",
   "id": "2d813781",
   "metadata": {},
   "source": [
    "From the bar chart for movies released in the early 2000s above, we see that four of the overall top five popular genres were among the top five. They include Adventure, Science fiction, Fantasy and Action.<br>\n",
    "Also, all the overall bottom five genres including Foreign, documentary, TV Movie, Music and Horror all featured in the bottom five in the late 2000s as well."
   ]
  },
  {
   "cell_type": "markdown",
   "id": "4e1a5a83",
   "metadata": {},
   "source": [
    "Having seen that some movies seem more popular across the years and within specific time periods, we may need to confirm that these more popular genres are not just the genre of movies released the most. Let's take a look at the count of each genre."
   ]
  },
  {
   "cell_type": "code",
   "execution_count": 335,
   "id": "a5ae1364",
   "metadata": {},
   "outputs": [
    {
     "data": {
      "text/plain": [
       "Drama              2453\n",
       "Comedy             2319\n",
       "Action             1590\n",
       "Horror              915\n",
       "Adventure           586\n",
       "Thriller            491\n",
       "Documentary         432\n",
       "Animation           403\n",
       "Crime               380\n",
       "Fantasy             272\n",
       "Science Fiction     214\n",
       "Romance             186\n",
       "Family              144\n",
       "Mystery             125\n",
       "Music               100\n",
       "TV Movie             78\n",
       "War                  59\n",
       "History              44\n",
       "Western              42\n",
       "Foreign               9\n",
       "Name: genre, dtype: int64"
      ]
     },
     "execution_count": 335,
     "metadata": {},
     "output_type": "execute_result"
    }
   ],
   "source": [
    "# To see the number of movies released under each genre\n",
    "movies.genre.value_counts()"
   ]
  },
  {
   "cell_type": "code",
   "execution_count": 336,
   "id": "c7d711cc",
   "metadata": {},
   "outputs": [
    {
     "data": {
      "image/png": "[encoded data removed]",
      "text/plain": [
       "<Figure size 864x432 with 1 Axes>"
      ]
     },
     "metadata": {},
     "output_type": "display_data"
    }
   ],
   "source": [
    "# Visualizing the number of movies under each genre\n",
    "movies.genre.value_counts().plot (kind='bar', figsize=(12,6))\n",
    "plt.title('Total number of movies released under each genre')\n",
    "plt.xlabel('Genres')\n",
    "plt.ylabel('Number of movies released');"
   ]
  },
  {
   "cell_type": "markdown",
   "id": "bac35561",
   "metadata": {},
   "source": [
    "From the bar chart above, we see that the genre that seems to be the most popular(Adventure), was the 5th highest released movie. Horror which was among the bottom five popular genres was actually the fourth highest number of genre of movies released. We see from here that the popularity of the genres wasn't influenced by the number of such movie genre released, if this were the case, drama and comedy should have been among the most popular atleast in one of the various time periods. We rest our case here as we already have a conclusion."
   ]
  },
  {
   "cell_type": "markdown",
   "id": "3e24b17b",
   "metadata": {},
   "source": [
    "### Research Question 2: Is there a relationship between the popularity of a movie and the amount budgeted for it?"
   ]
  },
  {
   "cell_type": "markdown",
   "id": "97f88fdd",
   "metadata": {},
   "source": [
    "To begin to answer this question, there are more than 10,791 unique values out of 10,842 entries in the popularity column. We cofirm that below.<br>We shall group these entries in the popularity column into four, using the different quartiles from the descriptive statistics. This will enable us analyse based on four levels/ratings of popularity.<br> We use the quartiles to group the popularity column into four because, it gives us an unbiased division/range of values.<br>Afterwards, we go ahead to find out the mean budget spent on the movies of various popularity levels to see if the more popular ones had higher budgets."
   ]
  },
  {
   "cell_type": "code",
   "execution_count": 337,
   "id": "848a07fe",
   "metadata": {},
   "outputs": [
    {
     "data": {
      "text/plain": [
       "(10842, 10791)"
      ]
     },
     "execution_count": 337,
     "metadata": {},
     "output_type": "execute_result"
    }
   ],
   "source": [
    "#Checking for number of values and number of unique values in the popularity column\n",
    "movies.popularity.count(), movies.popularity.nunique()"
   ]
  },
  {
   "cell_type": "code",
   "execution_count": 338,
   "id": "c77bbd43",
   "metadata": {},
   "outputs": [
    {
     "data": {
      "image/png": "[encoded data removed]",
      "text/plain": [
       "<Figure size 504x360 with 1 Axes>"
      ]
     },
     "metadata": {},
     "output_type": "display_data"
    }
   ],
   "source": [
    "#Visualizing the ditribution of the data in the popularity column\n",
    "movies['popularity'].plot(kind='hist', figsize = (7,5));"
   ]
  },
  {
   "cell_type": "markdown",
   "id": "9ace8975",
   "metadata": {},
   "source": [
    "The histogram above shows that the large number of unique values in the popularity column are clustered largely between zero and 3."
   ]
  },
  {
   "cell_type": "code",
   "execution_count": 339,
   "id": "b17bff7c",
   "metadata": {},
   "outputs": [
    {
     "data": {
      "text/plain": [
       "count    10842.000000\n",
       "mean         0.647461\n",
       "std          1.001032\n",
       "min          0.000065\n",
       "25%          0.208210\n",
       "50%          0.384532\n",
       "75%          0.715393\n",
       "max         32.985763\n",
       "Name: popularity, dtype: float64"
      ]
     },
     "execution_count": 339,
     "metadata": {},
     "output_type": "execute_result"
    }
   ],
   "source": [
    "#Obtaining descriptive statistics of the popularity column\n",
    "movies.popularity.describe()"
   ]
  },
  {
   "cell_type": "markdown",
   "id": "718d94b1",
   "metadata": {},
   "source": [
    "We shall go ahead to group the entries in the popularity column into four, using the different quartiles from the descriptive statistics above as guide to obtain extreme figures for the groups."
   ]
  },
  {
   "cell_type": "code",
   "execution_count": 340,
   "id": "671efcc0",
   "metadata": {},
   "outputs": [],
   "source": [
    "# pop_rate refers to the different ranges for dividing the values in the popularity column, \n",
    "# while pop_names are the names of the various levels of popularity that will emerge.\n",
    "pop_rate = [0.000065, 0.208210, 0.384532, 0.715393, 32.985763]\n",
    "pop_names = ['least', 'fair', 'good', 'great']"
   ]
  },
  {
   "cell_type": "code",
   "execution_count": 341,
   "id": "99d1eb7b",
   "metadata": {},
   "outputs": [],
   "source": [
    "#Creating a new column called pop_level which contains four differents levels of popularity. \n",
    "movies['pop_level']=pd.cut(movies['popularity'], pop_rate, labels=pop_names)"
   ]
  },
  {
   "cell_type": "code",
   "execution_count": 342,
   "id": "606ff90d",
   "metadata": {},
   "outputs": [
    {
     "data": {
      "text/html": [
       "<div>\n",
       "<style scoped>\n",
       "    .dataframe tbody tr th:only-of-type {\n",
       "        vertical-align: middle;\n",
       "    }\n",
       "\n",
       "    .dataframe tbody tr th {\n",
       "        vertical-align: top;\n",
       "    }\n",
       "\n",
       "    .dataframe thead th {\n",
       "        text-align: right;\n",
       "    }\n",
       "</style>\n",
       "<table border=\"1\" class=\"dataframe\">\n",
       "  <thead>\n",
       "    <tr style=\"text-align: right;\">\n",
       "      <th></th>\n",
       "      <th>popularity</th>\n",
       "      <th>budget</th>\n",
       "      <th>revenue</th>\n",
       "      <th>original_title</th>\n",
       "      <th>runtime</th>\n",
       "      <th>vote_count</th>\n",
       "      <th>vote_average</th>\n",
       "      <th>release_year</th>\n",
       "      <th>genre</th>\n",
       "      <th>periods</th>\n",
       "      <th>pop_level</th>\n",
       "    </tr>\n",
       "  </thead>\n",
       "  <tbody>\n",
       "    <tr>\n",
       "      <th>0</th>\n",
       "      <td>32.985763</td>\n",
       "      <td>150000000.0</td>\n",
       "      <td>1513528810</td>\n",
       "      <td>Jurassic World</td>\n",
       "      <td>124.0</td>\n",
       "      <td>5562</td>\n",
       "      <td>6.5</td>\n",
       "      <td>2015</td>\n",
       "      <td>Action</td>\n",
       "      <td>early_2000s</td>\n",
       "      <td>great</td>\n",
       "    </tr>\n",
       "    <tr>\n",
       "      <th>1</th>\n",
       "      <td>28.419936</td>\n",
       "      <td>150000000.0</td>\n",
       "      <td>378436354</td>\n",
       "      <td>Mad Max: Fury Road</td>\n",
       "      <td>120.0</td>\n",
       "      <td>6185</td>\n",
       "      <td>7.1</td>\n",
       "      <td>2015</td>\n",
       "      <td>Action</td>\n",
       "      <td>early_2000s</td>\n",
       "      <td>great</td>\n",
       "    </tr>\n",
       "    <tr>\n",
       "      <th>2</th>\n",
       "      <td>13.112507</td>\n",
       "      <td>110000000.0</td>\n",
       "      <td>295238201</td>\n",
       "      <td>Insurgent</td>\n",
       "      <td>119.0</td>\n",
       "      <td>2480</td>\n",
       "      <td>6.3</td>\n",
       "      <td>2015</td>\n",
       "      <td>Adventure</td>\n",
       "      <td>early_2000s</td>\n",
       "      <td>great</td>\n",
       "    </tr>\n",
       "    <tr>\n",
       "      <th>3</th>\n",
       "      <td>11.173104</td>\n",
       "      <td>200000000.0</td>\n",
       "      <td>2068178225</td>\n",
       "      <td>Star Wars: The Force Awakens</td>\n",
       "      <td>136.0</td>\n",
       "      <td>5292</td>\n",
       "      <td>7.5</td>\n",
       "      <td>2015</td>\n",
       "      <td>Action</td>\n",
       "      <td>early_2000s</td>\n",
       "      <td>great</td>\n",
       "    </tr>\n",
       "    <tr>\n",
       "      <th>4</th>\n",
       "      <td>9.335014</td>\n",
       "      <td>190000000.0</td>\n",
       "      <td>1506249360</td>\n",
       "      <td>Furious 7</td>\n",
       "      <td>137.0</td>\n",
       "      <td>2947</td>\n",
       "      <td>7.3</td>\n",
       "      <td>2015</td>\n",
       "      <td>Action</td>\n",
       "      <td>early_2000s</td>\n",
       "      <td>great</td>\n",
       "    </tr>\n",
       "    <tr>\n",
       "      <th>...</th>\n",
       "      <td>...</td>\n",
       "      <td>...</td>\n",
       "      <td>...</td>\n",
       "      <td>...</td>\n",
       "      <td>...</td>\n",
       "      <td>...</td>\n",
       "      <td>...</td>\n",
       "      <td>...</td>\n",
       "      <td>...</td>\n",
       "      <td>...</td>\n",
       "      <td>...</td>\n",
       "    </tr>\n",
       "    <tr>\n",
       "      <th>10861</th>\n",
       "      <td>0.080598</td>\n",
       "      <td>NaN</td>\n",
       "      <td>0</td>\n",
       "      <td>The Endless Summer</td>\n",
       "      <td>95.0</td>\n",
       "      <td>11</td>\n",
       "      <td>7.4</td>\n",
       "      <td>1966</td>\n",
       "      <td>Documentary</td>\n",
       "      <td>mid_nineties</td>\n",
       "      <td>least</td>\n",
       "    </tr>\n",
       "    <tr>\n",
       "      <th>10862</th>\n",
       "      <td>0.065543</td>\n",
       "      <td>NaN</td>\n",
       "      <td>0</td>\n",
       "      <td>Grand Prix</td>\n",
       "      <td>176.0</td>\n",
       "      <td>20</td>\n",
       "      <td>5.7</td>\n",
       "      <td>1966</td>\n",
       "      <td>Action</td>\n",
       "      <td>mid_nineties</td>\n",
       "      <td>least</td>\n",
       "    </tr>\n",
       "    <tr>\n",
       "      <th>10863</th>\n",
       "      <td>0.065141</td>\n",
       "      <td>NaN</td>\n",
       "      <td>0</td>\n",
       "      <td>Beregis Avtomobilya</td>\n",
       "      <td>94.0</td>\n",
       "      <td>11</td>\n",
       "      <td>6.5</td>\n",
       "      <td>1966</td>\n",
       "      <td>Mystery</td>\n",
       "      <td>mid_nineties</td>\n",
       "      <td>least</td>\n",
       "    </tr>\n",
       "    <tr>\n",
       "      <th>10864</th>\n",
       "      <td>0.064317</td>\n",
       "      <td>NaN</td>\n",
       "      <td>0</td>\n",
       "      <td>What's Up, Tiger Lily?</td>\n",
       "      <td>80.0</td>\n",
       "      <td>22</td>\n",
       "      <td>5.4</td>\n",
       "      <td>1966</td>\n",
       "      <td>Action</td>\n",
       "      <td>mid_nineties</td>\n",
       "      <td>least</td>\n",
       "    </tr>\n",
       "    <tr>\n",
       "      <th>10865</th>\n",
       "      <td>0.035919</td>\n",
       "      <td>19000.0</td>\n",
       "      <td>0</td>\n",
       "      <td>Manos: The Hands of Fate</td>\n",
       "      <td>74.0</td>\n",
       "      <td>15</td>\n",
       "      <td>1.5</td>\n",
       "      <td>1966</td>\n",
       "      <td>Horror</td>\n",
       "      <td>mid_nineties</td>\n",
       "      <td>least</td>\n",
       "    </tr>\n",
       "  </tbody>\n",
       "</table>\n",
       "<p>10842 rows × 11 columns</p>\n",
       "</div>"
      ],
      "text/plain": [
       "       popularity       budget     revenue                original_title  \\\n",
       "0       32.985763  150000000.0  1513528810                Jurassic World   \n",
       "1       28.419936  150000000.0   378436354            Mad Max: Fury Road   \n",
       "2       13.112507  110000000.0   295238201                     Insurgent   \n",
       "3       11.173104  200000000.0  2068178225  Star Wars: The Force Awakens   \n",
       "4        9.335014  190000000.0  1506249360                     Furious 7   \n",
       "...           ...          ...         ...                           ...   \n",
       "10861    0.080598          NaN           0            The Endless Summer   \n",
       "10862    0.065543          NaN           0                    Grand Prix   \n",
       "10863    0.065141          NaN           0           Beregis Avtomobilya   \n",
       "10864    0.064317          NaN           0        What's Up, Tiger Lily?   \n",
       "10865    0.035919      19000.0           0      Manos: The Hands of Fate   \n",
       "\n",
       "       runtime  vote_count  vote_average  release_year        genre  \\\n",
       "0        124.0        5562           6.5          2015       Action   \n",
       "1        120.0        6185           7.1          2015       Action   \n",
       "2        119.0        2480           6.3          2015    Adventure   \n",
       "3        136.0        5292           7.5          2015       Action   \n",
       "4        137.0        2947           7.3          2015       Action   \n",
       "...        ...         ...           ...           ...          ...   \n",
       "10861     95.0          11           7.4          1966  Documentary   \n",
       "10862    176.0          20           5.7          1966       Action   \n",
       "10863     94.0          11           6.5          1966      Mystery   \n",
       "10864     80.0          22           5.4          1966       Action   \n",
       "10865     74.0          15           1.5          1966       Horror   \n",
       "\n",
       "            periods pop_level  \n",
       "0       early_2000s     great  \n",
       "1       early_2000s     great  \n",
       "2       early_2000s     great  \n",
       "3       early_2000s     great  \n",
       "4       early_2000s     great  \n",
       "...             ...       ...  \n",
       "10861  mid_nineties     least  \n",
       "10862  mid_nineties     least  \n",
       "10863  mid_nineties     least  \n",
       "10864  mid_nineties     least  \n",
       "10865  mid_nineties     least  \n",
       "\n",
       "[10842 rows x 11 columns]"
      ]
     },
     "execution_count": 342,
     "metadata": {},
     "output_type": "execute_result"
    }
   ],
   "source": [
    "# Confirming the creation of the new column\n",
    "movies"
   ]
  },
  {
   "cell_type": "code",
   "execution_count": 343,
   "id": "f00e0e3c",
   "metadata": {},
   "outputs": [
    {
     "data": {
      "text/plain": [
       "(10842, 11)"
      ]
     },
     "execution_count": 343,
     "metadata": {},
     "output_type": "execute_result"
    }
   ],
   "source": [
    "#Confirming the new dimension of the dataset\n",
    "movies.shape"
   ]
  },
  {
   "cell_type": "markdown",
   "id": "f46927e0",
   "metadata": {},
   "source": [
    "We shall now calculate the mean amount budgeted for movies of various popuarity levels"
   ]
  },
  {
   "cell_type": "code",
   "execution_count": 344,
   "id": "f9e810f6",
   "metadata": {},
   "outputs": [
    {
     "data": {
      "text/plain": [
       "pop_level\n",
       "least    9.759926e+06\n",
       "fair     1.432476e+07\n",
       "good     2.090111e+07\n",
       "great    4.853928e+07\n",
       "Name: budget, dtype: float64"
      ]
     },
     "execution_count": 344,
     "metadata": {},
     "output_type": "execute_result"
    }
   ],
   "source": [
    "#The mean budget of movies of different popularity levels\n",
    "movies.groupby('pop_level').budget.mean()"
   ]
  },
  {
   "cell_type": "code",
   "execution_count": 345,
   "id": "17a4506a",
   "metadata": {},
   "outputs": [
    {
     "data": {
      "image/png": "[encoded data removed]",
      "text/plain": [
       "<Figure size 432x288 with 1 Axes>"
      ]
     },
     "metadata": {},
     "output_type": "display_data"
    }
   ],
   "source": [
    "# Visualizing the mean budget of movies of different popularity levels\n",
    "movies.groupby('pop_level').budget.mean().plot(kind='bar', figsize=(6,4))\n",
    "plt.title('Budgets of various levels of movie popularity')\n",
    "plt.xlabel('Levels of popularity')\n",
    "plt.ylabel('Budget (In ten billions)');"
   ]
  },
  {
   "cell_type": "markdown",
   "id": "03453840",
   "metadata": {},
   "source": [
    "From the bar chart above, we see that the movies with higher popularity levels had a higher amount budgeted for them, while those with lower popularity had lower budgets."
   ]
  },
  {
   "cell_type": "code",
   "execution_count": 346,
   "id": "9f76f2d3",
   "metadata": {},
   "outputs": [
    {
     "data": {
      "image/png": "[encoded data removed]",
      "text/plain": [
       "<Figure size 432x360 with 1 Axes>"
      ]
     },
     "metadata": {},
     "output_type": "display_data"
    }
   ],
   "source": [
    "#Scatter plot to confirm the relationship\n",
    "movies.plot(x=\"budget\", y=\"popularity\", kind= \"scatter\", figsize=(6,5));\n",
    "plt.title('Relationship between budget and movie popularity')\n",
    "plt.xlabel('Budget (In hundred billions)')\n",
    "plt.ylabel('Popularity');"
   ]
  },
  {
   "cell_type": "markdown",
   "id": "7c5916ad",
   "metadata": {},
   "source": [
    "The scatter plot above also shows a positive relationship between popularity and budget. We see the consistency in the rise. It is however not so conspicuous since the popularity ratings range largely between 0 and 3"
   ]
  },
  {
   "cell_type": "markdown",
   "id": "c1f2eedd",
   "metadata": {},
   "source": [
    "### Research Question 3: Does the runtime of movies have a relationship with their popularity?"
   ]
  },
  {
   "cell_type": "markdown",
   "id": "7223cc28",
   "metadata": {},
   "source": [
    "In answering the third research question, we look at the runtime of the four popularity levels to see if there is a relationship between popularity level and runtime of movies. "
   ]
  },
  {
   "cell_type": "code",
   "execution_count": 347,
   "id": "2673ae63",
   "metadata": {},
   "outputs": [
    {
     "data": {
      "text/plain": [
       "pop_level\n",
       "least     98.393846\n",
       "fair     100.048175\n",
       "good     102.635844\n",
       "great    108.434946\n",
       "Name: runtime, dtype: float64"
      ]
     },
     "execution_count": 347,
     "metadata": {},
     "output_type": "execute_result"
    }
   ],
   "source": [
    "#Checking for the runtime of movies of different levels of popularity \n",
    "movies.groupby('pop_level').runtime.mean()"
   ]
  },
  {
   "cell_type": "code",
   "execution_count": 348,
   "id": "72aff38d",
   "metadata": {},
   "outputs": [
    {
     "data": {
      "image/png": "[encoded data removed]",
      "text/plain": [
       "<Figure size 432x288 with 1 Axes>"
      ]
     },
     "metadata": {},
     "output_type": "display_data"
    }
   ],
   "source": [
    "# Bar chart to visualize the runtime of movies of different levels of popularity \n",
    "movies.groupby('pop_level').runtime.mean().plot(kind='bar', figsize=(6,4))\n",
    "plt.title('Runtime of various levels of movie popularity')\n",
    "plt.xlabel('Levels of popularity')\n",
    "plt.ylabel('Runtime');"
   ]
  },
  {
   "cell_type": "markdown",
   "id": "4ceb9580",
   "metadata": {},
   "source": [
    "From the barchart above, we see that the popularity of movies increase with the runtime. The movies with the highest popularity level had the highest runtime and vice versa."
   ]
  },
  {
   "cell_type": "markdown",
   "id": "6326c53e",
   "metadata": {},
   "source": [
    "Let us look at a scatter plot to see if we can confirm the positive relationship revealed by the barchart"
   ]
  },
  {
   "cell_type": "code",
   "execution_count": 349,
   "id": "e0230b15",
   "metadata": {},
   "outputs": [
    {
     "data": {
      "image/png": "[encoded data removed]",
      "text/plain": [
       "<Figure size 864x288 with 1 Axes>"
      ]
     },
     "metadata": {},
     "output_type": "display_data"
    }
   ],
   "source": [
    "# Scatter plot to check for a pattern or relationship between popularity and runtime\n",
    "movies.plot(x=\"runtime\", y=\"popularity\", kind= \"scatter\", figsize=(12,4))\n",
    "plt.title('Relationship between runtime and movie popularity')\n",
    "plt.xlabel('Runtime')\n",
    "plt.ylabel('Popularity');"
   ]
  },
  {
   "cell_type": "markdown",
   "id": "bfe3075c",
   "metadata": {},
   "source": [
    "The relationship between the variables however, does not show a clear trend from the scatter plot."
   ]
  },
  {
   "cell_type": "markdown",
   "id": "22dc4da6",
   "metadata": {},
   "source": [
    "Let us quickly explore the relationship between the runtime of movies and the popularity of movies from other dimensions.<br>This time, we look at the popularity of movies with high and low runtime. First, we group the runtime using the mean as central figure, after which we group using the median"
   ]
  },
  {
   "cell_type": "code",
   "execution_count": 350,
   "id": "7be18fe9",
   "metadata": {},
   "outputs": [
    {
     "data": {
      "text/plain": [
       "102.42106191595185"
      ]
     },
     "execution_count": 350,
     "metadata": {},
     "output_type": "execute_result"
    }
   ],
   "source": [
    "# Obtaining the mean runtime\n",
    "mean_runtime = movies.runtime.mean()\n",
    "mean_runtime"
   ]
  },
  {
   "cell_type": "code",
   "execution_count": 351,
   "id": "a8bfaf82",
   "metadata": {},
   "outputs": [],
   "source": [
    "# We group the runtime column into high and low runtime using the mean runtime as the central figure\n",
    "# high-runtime and low_runtime here are the assigned variable names for movies with high and low runtime repectively\n",
    "high_runtime = movies.runtime > mean_runtime\n",
    "low_runtime = movies.runtime <= mean_runtime"
   ]
  },
  {
   "cell_type": "code",
   "execution_count": 352,
   "id": "f7e53b0f",
   "metadata": {},
   "outputs": [
    {
     "data": {
      "text/plain": [
       "(0.8662652165318956, 0.495016429890452)"
      ]
     },
     "execution_count": 352,
     "metadata": {},
     "output_type": "execute_result"
    }
   ],
   "source": [
    "# Obtaining the mean popularity of movies with higher runtime and lower runtime and assigning them to the \n",
    "# variables h_runtime and l_runtime respectively.\n",
    "\n",
    "h_runtime=movies.popularity[high_runtime].mean()\n",
    "l_runtime=movies.popularity[low_runtime].mean()\n",
    "movies.popularity[high_runtime].mean(), movies.popularity[low_runtime].mean()"
   ]
  },
  {
   "cell_type": "code",
   "execution_count": 353,
   "id": "177cc4b8",
   "metadata": {},
   "outputs": [
    {
     "data": {
      "image/png": "[encoded data removed]",
      "text/plain": [
       "<Figure size 432x288 with 1 Axes>"
      ]
     },
     "metadata": {},
     "output_type": "display_data"
    }
   ],
   "source": [
    "# A pie chart to clearly see the difference between the popularity of movies with high and low runtime \n",
    "plt.pie((h_runtime, l_runtime), labels=(\"high_runtime\", \"low_runtime\"),autopct='%1.2f%%', colors=(\"green\",\"brown\"), explode = (0.1, 0)),\n",
    "plt.title('Popularity of movies with high and low runtime'),\n",
    "plt.tight_layout();"
   ]
  },
  {
   "cell_type": "markdown",
   "id": "caa80e81",
   "metadata": {},
   "source": [
    "We see from the pie chart above, that movies with high runtime have a higher popularity percentage than movies with lower runtime.<br>\n",
    "\n",
    "\n",
    "Let us also do this analysis using the median runtime as the central value."
   ]
  },
  {
   "cell_type": "code",
   "execution_count": 354,
   "id": "aa06b054",
   "metadata": {},
   "outputs": [
    {
     "data": {
      "text/plain": [
       "99.0"
      ]
     },
     "execution_count": 354,
     "metadata": {},
     "output_type": "execute_result"
    }
   ],
   "source": [
    "# Obtaining the median runtime\n",
    "medium_runtime = movies.runtime.median()\n",
    "medium_runtime"
   ]
  },
  {
   "cell_type": "code",
   "execution_count": 355,
   "id": "5cb73a5c",
   "metadata": {},
   "outputs": [],
   "source": [
    "# We group the runtime column into high and low runtime, this time using the median figure as the central figure \n",
    "# hruntime and lruntime here are the assigned variable names for movies with high and low runtime repectively\n",
    "hruntime = movies.runtime > medium_runtime\n",
    "lruntime = movies.runtime <= medium_runtime"
   ]
  },
  {
   "cell_type": "code",
   "execution_count": 356,
   "id": "c0438a83",
   "metadata": {},
   "outputs": [
    {
     "data": {
      "text/plain": [
       "(0.8267984576303313, 0.4775293456080463)"
      ]
     },
     "execution_count": 356,
     "metadata": {},
     "output_type": "execute_result"
    }
   ],
   "source": [
    "# Obtaining the mean popularity of movies with higher runtime and lower runtime.\n",
    "movies.popularity[hruntime].mean(), movies.popularity[lruntime].mean()"
   ]
  },
  {
   "cell_type": "markdown",
   "id": "84a9dd84",
   "metadata": {},
   "source": [
    "The values above agree that movies with higher runtime have higher popularity than those with lower runtime"
   ]
  },
  {
   "cell_type": "markdown",
   "id": "c4d4d093",
   "metadata": {},
   "source": [
    "<a id='conclusions'></a>\n",
    "## Conclusions\n",
    "\n",
    "At the end of the investigation of the TMDB-Movies dataset using the popularity of movies as the dependent variable and genre, budget and runtime as the independent variables, the following findings were made:\n",
    "<ol>\n",
    "<li>Some genres of movies are more popular than others. This was found to be the case in various time periods and across all the years covered by this investigation .</li>\n",
    "\n",
    "<li>There is a positive relationship between the popularity of a movie and the amount budgeted for it. Both variables increased alongside each other in the years covered by this investigation.</li>\n",
    "\n",
    "<li>The runtime of movies has a fairly positive relationship with their popularity. Movies with higher runtime were shown to be more popular than movies with lower runtime.</li>"
   ]
  },
  {
   "cell_type": "markdown",
   "id": "c561e279",
   "metadata": {},
   "source": [
    "## Limitations\n"
   ]
  },
  {
   "cell_type": "markdown",
   "id": "040da358",
   "metadata": {},
   "source": [
    "In conducting the analysis with the TMDB-Movies dataset, there were some limitations.\n",
    "<ol>\n",
    "<li>There were many zero rows in the budget column. These rows had to be converted to null to carry out this analysis.</li>\n",
    "\n",
    "<li>Also, several movies belonged to more than one genre. Only one genre was however accommodated for each movie in this investigation.</li>\n",
    "\n",
    "<li>Finally, some rows in the genre column had no enteries and these rows were dropped.</li>\n",
    "<ol>"
   ]
  },
  {
   "cell_type": "code",
   "execution_count": null,
   "id": "16cc0831",
   "metadata": {},
   "outputs": [],
   "source": []
  }
 ],
 "metadata": {
  "kernelspec": {
   "display_name": "Python 3 (ipykernel)",
   "language": "python",
   "name": "python3"
  },
  "language_info": {
   "codemirror_mode": {
    "name": "ipython",
    "version": 3
   },
   "file_extension": ".py",
   "mimetype": "text/x-python",
   "name": "python",
   "nbconvert_exporter": "python",
   "pygments_lexer": "ipython3",
   "version": "3.9.12"
  }
 },
 "nbformat": 4,
 "nbformat_minor": 5
}
